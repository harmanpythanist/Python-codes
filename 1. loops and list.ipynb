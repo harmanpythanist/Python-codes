{
 "cells": [
  {
   "cell_type": "markdown",
   "id": "1d6ea4ca-2fba-481e-be71-5ad88063e4cc",
   "metadata": {},
   "source": [
    "## LISTS"
   ]
  },
  {
   "cell_type": "code",
   "execution_count": 3,
   "id": "173449fb-1b5e-49aa-ab06-fdf43f72a517",
   "metadata": {},
   "outputs": [],
   "source": [
    "classs = ['harman', 'ahmad']"
   ]
  },
  {
   "cell_type": "code",
   "execution_count": 4,
   "id": "29080573-1afa-40d5-9315-c9f0174eb5c2",
   "metadata": {},
   "outputs": [],
   "source": [
    "classs.append('murtaza')"
   ]
  },
  {
   "cell_type": "code",
   "execution_count": 5,
   "id": "728692e4-685b-485d-9630-bc0d109446b9",
   "metadata": {},
   "outputs": [
    {
     "data": {
      "text/plain": [
       "['harman', 'ahmad', 'murtaza']"
      ]
     },
     "execution_count": 5,
     "metadata": {},
     "output_type": "execute_result"
    }
   ],
   "source": [
    "classs"
   ]
  },
  {
   "cell_type": "code",
   "execution_count": 6,
   "id": "c471a944-9b93-42da-aff0-855906982fe7",
   "metadata": {},
   "outputs": [],
   "source": [
    "name = 'ALI'\n",
    "classs[0] = name"
   ]
  },
  {
   "cell_type": "code",
   "execution_count": 7,
   "id": "afc31c3e-4797-490f-96ad-3a7eaf5f2caf",
   "metadata": {},
   "outputs": [
    {
     "data": {
      "text/plain": [
       "['ALI', 'ahmad', 'murtaza']"
      ]
     },
     "execution_count": 7,
     "metadata": {},
     "output_type": "execute_result"
    }
   ],
   "source": [
    "classs"
   ]
  },
  {
   "cell_type": "markdown",
   "id": "1de268d9-a0b0-44f0-9d84-2517c74586d0",
   "metadata": {},
   "source": [
    "#### INSERT"
   ]
  },
  {
   "cell_type": "code",
   "execution_count": 8,
   "id": "13895c2e-ddca-4d23-b2aa-c5d8238f29d8",
   "metadata": {},
   "outputs": [],
   "source": [
    "classs.insert(0, 'Ali')"
   ]
  },
  {
   "cell_type": "code",
   "execution_count": 9,
   "id": "50f08157-0704-4226-bbcb-75abe8081d85",
   "metadata": {},
   "outputs": [
    {
     "data": {
      "text/plain": [
       "['Ali', 'ALI', 'ahmad', 'murtaza']"
      ]
     },
     "execution_count": 9,
     "metadata": {},
     "output_type": "execute_result"
    }
   ],
   "source": [
    "classs"
   ]
  },
  {
   "cell_type": "code",
   "execution_count": 10,
   "id": "f178051c-a31d-4c00-b640-33a7d9a3a808",
   "metadata": {},
   "outputs": [],
   "source": [
    "classs.insert(1, 'Waheed')"
   ]
  },
  {
   "cell_type": "code",
   "execution_count": 11,
   "id": "e73dcf86-513b-44b9-bcbb-4f078aab0533",
   "metadata": {},
   "outputs": [
    {
     "data": {
      "text/plain": [
       "['Ali', 'Waheed', 'ALI', 'ahmad', 'murtaza']"
      ]
     },
     "execution_count": 11,
     "metadata": {},
     "output_type": "execute_result"
    }
   ],
   "source": [
    "classs"
   ]
  },
  {
   "cell_type": "code",
   "execution_count": 17,
   "id": "f080883a-52f0-4fd8-9d1d-b214dcf0c028",
   "metadata": {},
   "outputs": [],
   "source": [
    "# slicing\n",
    "\n",
    "specific_names = classs[1:4]   # last index is not included"
   ]
  },
  {
   "cell_type": "code",
   "execution_count": 16,
   "id": "defad522-6b77-43cd-aeb3-df16fe55f39a",
   "metadata": {},
   "outputs": [
    {
     "data": {
      "text/plain": [
       "['Waheed', 'ALI', 'ahmad']"
      ]
     },
     "execution_count": 16,
     "metadata": {},
     "output_type": "execute_result"
    }
   ],
   "source": [
    "specific_names"
   ]
  },
  {
   "cell_type": "code",
   "execution_count": null,
   "id": "38c0a551-2088-4daa-9881-c85dcae8a0b6",
   "metadata": {},
   "outputs": [],
   "source": []
  },
  {
   "cell_type": "code",
   "execution_count": null,
   "id": "7657aa2e-5344-4006-af7e-c349f9a4987e",
   "metadata": {},
   "outputs": [],
   "source": []
  },
  {
   "cell_type": "code",
   "execution_count": null,
   "id": "0a673c5a-6b69-4b8b-b15b-bf278165c988",
   "metadata": {},
   "outputs": [],
   "source": []
  },
  {
   "cell_type": "code",
   "execution_count": 28,
   "id": "4eab8bd5-60c7-4135-8dbf-2d1a14880d69",
   "metadata": {},
   "outputs": [],
   "source": [
    "marks = [50, 40, 95, 45, 48, 98, 75, 67, 89, 90, 34]"
   ]
  },
  {
   "cell_type": "code",
   "execution_count": 29,
   "id": "694f57c1-8229-43a8-a7e1-9d7ea7c84538",
   "metadata": {},
   "outputs": [
    {
     "name": "stdout",
     "output_type": "stream",
     "text": [
      "RAW LIST\n",
      "[50, 40, 95, 45, 48, 98, 75, 67, 89, 90, 34]\n",
      "\n",
      "Sorted List\n",
      "[34, 40, 45, 48, 50, 67, 75, 89, 90, 95, 98]\n",
      "\n",
      "Reversed List\n",
      "[98, 95, 90, 89, 75, 67, 50, 48, 45, 40, 34]\n"
     ]
    }
   ],
   "source": [
    "print('RAW LIST')\n",
    "print(marks)\n",
    "\n",
    "print('\\nSorted List')\n",
    "marks.sort()\n",
    "print(marks)\n",
    "\n",
    "print('\\nReversed List')\n",
    "marks.reverse()\n",
    "print(marks)"
   ]
  },
  {
   "cell_type": "code",
   "execution_count": 25,
   "id": "c7e78e7f-272e-4416-8047-c4461932a436",
   "metadata": {},
   "outputs": [
    {
     "data": {
      "text/plain": [
       "[98, 95, 90, 90, 89, 80, 75, 67, 48, 45, 34]"
      ]
     },
     "execution_count": 25,
     "metadata": {},
     "output_type": "execute_result"
    }
   ],
   "source": [
    "marks"
   ]
  },
  {
   "cell_type": "code",
   "execution_count": 30,
   "id": "978cc5a8-a78a-4230-9178-e7faa8d1f180",
   "metadata": {},
   "outputs": [
    {
     "data": {
      "text/plain": [
       "[98, 95, 90, 89, 75, 67, 50, 48, 45, 40, 34]"
      ]
     },
     "execution_count": 30,
     "metadata": {},
     "output_type": "execute_result"
    }
   ],
   "source": [
    "marks"
   ]
  },
  {
   "cell_type": "code",
   "execution_count": 31,
   "id": "2096c456-02d8-4de9-b948-4db5ebbac413",
   "metadata": {},
   "outputs": [
    {
     "data": {
      "text/plain": [
       "[90, 89, 75]"
      ]
     },
     "execution_count": 31,
     "metadata": {},
     "output_type": "execute_result"
    }
   ],
   "source": [
    "marks[2:5]"
   ]
  },
  {
   "cell_type": "code",
   "execution_count": 33,
   "id": "daca8815-6212-420d-b0eb-9d656de5d290",
   "metadata": {},
   "outputs": [
    {
     "name": "stdout",
     "output_type": "stream",
     "text": [
      "[90, 89, 75, 67, 50, 48, 45, 40, 34]\n",
      "[98, 95, 90, 89, 75]\n",
      "[98, 95, 90, 89, 75, 67, 50, 48, 45, 40, 34]\n"
     ]
    }
   ],
   "source": [
    "print(marks[2:])\n",
    "\n",
    "print(marks[:5])\n",
    "\n",
    "print(marks[:])\n",
    "\n"
   ]
  },
  {
   "cell_type": "code",
   "execution_count": 35,
   "id": "2fcf0422-14a4-446e-9e97-b6ac3abe6acc",
   "metadata": {},
   "outputs": [
    {
     "name": "stdout",
     "output_type": "stream",
     "text": [
      "Top three position marks\n",
      "[98, 95, 90]\n"
     ]
    }
   ],
   "source": [
    "print('Top three position marks')\n",
    "print(marks[:3])"
   ]
  },
  {
   "cell_type": "markdown",
   "id": "5d4b4555-3375-488c-86d3-aa9f71fddfe8",
   "metadata": {},
   "source": [
    "### FOR LOOPS"
   ]
  },
  {
   "cell_type": "code",
   "execution_count": 40,
   "id": "0c6cdf04-558d-4d61-b112-3d98ea74f9b7",
   "metadata": {},
   "outputs": [
    {
     "name": "stdout",
     "output_type": "stream",
     "text": [
      "range(0, 10)\n",
      "[0, 1, 2, 3, 4, 5, 6, 7, 8, 9]\n"
     ]
    }
   ],
   "source": [
    "print(range(10))\n",
    "print(list(range(10)))"
   ]
  },
  {
   "cell_type": "code",
   "execution_count": 42,
   "id": "e00c5dce-decf-4459-8ff5-143fea07b1c4",
   "metadata": {},
   "outputs": [
    {
     "name": "stdout",
     "output_type": "stream",
     "text": [
      "[2, 3, 4, 5, 6, 7, 8, 9, 10, 11, 12, 13, 14, 15, 16, 17, 18, 19]\n"
     ]
    }
   ],
   "source": [
    "print(list(range(2, 20)))"
   ]
  },
  {
   "cell_type": "code",
   "execution_count": 43,
   "id": "82eecc62-5612-4937-a5e3-abc80d2ed4f1",
   "metadata": {},
   "outputs": [
    {
     "data": {
      "text/plain": [
       "[1, 6, 11, 16, 21, 26, 31, 36, 41, 46]"
      ]
     },
     "execution_count": 43,
     "metadata": {},
     "output_type": "execute_result"
    }
   ],
   "source": [
    "list(range(1, 50, 5))   # STEP\n",
    "\n",
    "# 1 -> 6 -> 11 -> 16 -> 21 ....... 49"
   ]
  },
  {
   "cell_type": "code",
   "execution_count": 47,
   "id": "87550c23-119c-4f97-a4e5-14016803da16",
   "metadata": {},
   "outputs": [
    {
     "data": {
      "text/plain": [
       "11"
      ]
     },
     "execution_count": 47,
     "metadata": {},
     "output_type": "execute_result"
    }
   ],
   "source": [
    "len(list(range(0, 21, 2)))"
   ]
  },
  {
   "cell_type": "code",
   "execution_count": 50,
   "id": "2a47478d-a3bc-4e8a-9cc8-347d547e85c2",
   "metadata": {},
   "outputs": [
    {
     "data": {
      "text/plain": [
       "2550"
      ]
     },
     "execution_count": 50,
     "metadata": {},
     "output_type": "execute_result"
    }
   ],
   "source": [
    "sum(list(range(0, 101, 2)))\n",
    "\n",
    "# 0 2 4 6 8 ..... 100"
   ]
  },
  {
   "cell_type": "code",
   "execution_count": 60,
   "id": "acecb7e2-b707-44eb-9ccb-51303fa8d1dc",
   "metadata": {},
   "outputs": [
    {
     "name": "stdout",
     "output_type": "stream",
     "text": [
      "VALUE -  0\n",
      "VALUE -  1\n",
      "VALUE -  2\n",
      "VALUE -  3\n",
      "VALUE -  4\n",
      "VALUE -  5\n",
      "VALUE -  6\n",
      "VALUE -  7\n",
      "VALUE -  8\n",
      "VALUE -  9\n"
     ]
    }
   ],
   "source": [
    "for i in range(10):\n",
    "    print('VALUE - ', i)"
   ]
  },
  {
   "cell_type": "code",
   "execution_count": 53,
   "id": "8fcb5df8-e85b-41a6-8944-5d193922fc8a",
   "metadata": {},
   "outputs": [
    {
     "ename": "TypeError",
     "evalue": "'int' object is not iterable",
     "output_type": "error",
     "traceback": [
      "\u001b[1;31m---------------------------------------------------------------------------\u001b[0m",
      "\u001b[1;31mTypeError\u001b[0m                                 Traceback (most recent call last)",
      "Cell \u001b[1;32mIn[53], line 1\u001b[0m\n\u001b[1;32m----> 1\u001b[0m \u001b[38;5;28;01mfor\u001b[39;00m i \u001b[38;5;129;01min\u001b[39;00m \u001b[38;5;241m45\u001b[39m:\n\u001b[0;32m      2\u001b[0m     \u001b[38;5;28mprint\u001b[39m(i)\n",
      "\u001b[1;31mTypeError\u001b[0m: 'int' object is not iterable"
     ]
    }
   ],
   "source": [
    "for i in 45:\n",
    "    print(i)"
   ]
  },
  {
   "cell_type": "code",
   "execution_count": 64,
   "id": "0a25d481-35e5-43a3-a409-113cd3f47e55",
   "metadata": {},
   "outputs": [
    {
     "name": "stdout",
     "output_type": "stream",
     "text": [
      "23 -> 23\n",
      "45 -> 68\n",
      "45 -> 113\n",
      "54 -> 167\n"
     ]
    }
   ],
   "source": [
    "add = 0\n",
    "marks = [23, 45, 45, 54]\n",
    "updated = []\n",
    "\n",
    "for i in marks:\n",
    "    add = add + i\n",
    "    print(i, '->', add)\n",
    "    updated.append(add)"
   ]
  },
  {
   "cell_type": "code",
   "execution_count": 65,
   "id": "a9559d04-bb79-4832-a185-3740bfd37cda",
   "metadata": {},
   "outputs": [
    {
     "name": "stdout",
     "output_type": "stream",
     "text": [
      "[23, 68, 113, 167]\n"
     ]
    }
   ],
   "source": [
    "print(updated)"
   ]
  },
  {
   "cell_type": "code",
   "execution_count": 67,
   "id": "c7caed22-7581-48fb-9a08-27ce0b3634f3",
   "metadata": {},
   "outputs": [
    {
     "name": "stdout",
     "output_type": "stream",
     "text": [
      "[23]\n",
      "[68, 23]\n",
      "[113, 68, 23]\n",
      "[167, 113, 68, 23]\n"
     ]
    }
   ],
   "source": [
    "add = 0\n",
    "marks = [23, 45, 45, 54]\n",
    "updated = []\n",
    "\n",
    "for i in marks:\n",
    "    add = add + i\n",
    "    updated.insert(0, add)\n",
    "    print(updated)"
   ]
  },
  {
   "cell_type": "code",
   "execution_count": 68,
   "id": "88da0bd9-f7e8-416d-bc5e-b32babf4808d",
   "metadata": {},
   "outputs": [
    {
     "data": {
      "text/plain": [
       "[23, 45, 45, 54]"
      ]
     },
     "execution_count": 68,
     "metadata": {},
     "output_type": "execute_result"
    }
   ],
   "source": [
    "marks"
   ]
  },
  {
   "cell_type": "markdown",
   "id": "635e54c9-454f-478b-894a-2f04830506af",
   "metadata": {},
   "source": [
    "### AVERAGE CALCULATOR"
   ]
  },
  {
   "cell_type": "code",
   "execution_count": 69,
   "id": "b2fb4428-ed8c-40e9-8719-161f6876cca0",
   "metadata": {},
   "outputs": [],
   "source": [
    "marks = [50, 40, 95, 45, 48, 98, 75, 67, 89, 90, 34]"
   ]
  },
  {
   "cell_type": "code",
   "execution_count": 76,
   "id": "a28397f5-ed08-4da1-bae0-b85b20e52e39",
   "metadata": {},
   "outputs": [
    {
     "name": "stdout",
     "output_type": "stream",
     "text": [
      "66.45\n"
     ]
    }
   ],
   "source": [
    "length = len(marks)\n",
    "summ = sum(marks)\n",
    "average = summ / length\n",
    "print(round(average, 2))"
   ]
  },
  {
   "cell_type": "code",
   "execution_count": 73,
   "id": "d176b68c-34f4-4dda-8350-deb7857e22cd",
   "metadata": {},
   "outputs": [
    {
     "data": {
      "text/plain": [
       "3.44"
      ]
     },
     "execution_count": 73,
     "metadata": {},
     "output_type": "execute_result"
    }
   ],
   "source": [
    "round(3.444444, 2)"
   ]
  },
  {
   "cell_type": "code",
   "execution_count": null,
   "id": "c9af12c7-39f8-4564-8abc-f587244b151f",
   "metadata": {},
   "outputs": [],
   "source": [
    "## ROUND"
   ]
  }
 ],
 "metadata": {
  "kernelspec": {
   "display_name": "Python 3 (ipykernel)",
   "language": "python",
   "name": "python3"
  },
  "language_info": {
   "codemirror_mode": {
    "name": "ipython",
    "version": 3
   },
   "file_extension": ".py",
   "mimetype": "text/x-python",
   "name": "python",
   "nbconvert_exporter": "python",
   "pygments_lexer": "ipython3",
   "version": "3.12.7"
  }
 },
 "nbformat": 4,
 "nbformat_minor": 5
}
