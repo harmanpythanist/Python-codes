{
 "cells": [
  {
   "cell_type": "code",
   "execution_count": 1,
   "id": "07ce51e7-d6b8-4041-bf1f-140cb2b17b08",
   "metadata": {},
   "outputs": [],
   "source": [
    "import random"
   ]
  },
  {
   "cell_type": "markdown",
   "id": "93cbd6de-47c3-4957-bdc1-860060282a95",
   "metadata": {},
   "source": [
    "## Stone Paper Scissor Game"
   ]
  },
  {
   "cell_type": "code",
   "execution_count": 5,
   "id": "18b72953-4fb3-4012-b401-e2851584b3c6",
   "metadata": {},
   "outputs": [
    {
     "name": "stdin",
     "output_type": "stream",
     "text": [
      "Enter your choice (Stone, paper, scissor) SCISSor\n"
     ]
    },
    {
     "name": "stdout",
     "output_type": "stream",
     "text": [
      "=====================\n",
      "computer choice: stone\n",
      "user choice: scissor\n",
      "=====================\n",
      "\n",
      "\n",
      "Computer Wins\n",
      "You lose\n"
     ]
    }
   ],
   "source": [
    "elems = ['stone', 'paper', 'scissor']\n",
    "\n",
    "# random.choice(list) -> Random Element\n",
    "\n",
    "computer_choice = random.choice(elems)\n",
    "\n",
    "user_choice = input('Enter your choice (Stone, paper, scissor)').lower()\n",
    "\n",
    "while user_choice not in elems:\n",
    "    print('Invalid Answer, try again')\n",
    "    user_choice = input('Enter your choice (Stone, paper, scissor)').lower()\n",
    "\n",
    "\n",
    "print('=====================')\n",
    "print('computer choice:', computer_choice)\n",
    "print('user choice:', user_choice)\n",
    "print('=====================\\n\\n')\n",
    "# Deciding who WON\n",
    "\n",
    "if computer_choice == user_choice:\n",
    "    print('Its a tie')\n",
    "elif computer_choice == 'stone' and user_choice == 'scissor':\n",
    "    print('Computer Wins')\n",
    "    print('You lose')\n",
    "elif computer_choice == 'stone' and user_choice == 'paper':\n",
    "    print('You Win')\n",
    "    print('Computer lose')\n",
    "elif computer_choice == 'paper' and user_choice == 'stone':\n",
    "    print('Computer Win')\n",
    "    print('You lose')\n",
    "elif computer_choice == 'paper' and user_choice == 'scissor':\n",
    "    print('You Win')\n",
    "    print('Computer lose')\n",
    "elif computer_choice == 'scissor' and user_choice == 'paper':\n",
    "    print('Computer Win')\n",
    "    print('You lose')\n",
    "elif computer_choice == 'scissor' and user_choice == 'stone':\n",
    "    print('You Win')\n",
    "    print('Computer lose')\n",
    "\n",
    "\n",
    "else:\n",
    "    print('No condition satisfied')"
   ]
  },
  {
   "cell_type": "code",
   "execution_count": 16,
   "id": "dea2efa2-9614-4614-ab71-fcdc8149fafe",
   "metadata": {},
   "outputs": [],
   "source": [
    "def play():\n",
    "\n",
    "    elems = ['stone', 'paper', 'scissor']\n",
    "    \n",
    "    # random.choice(list) -> Random Element\n",
    "    \n",
    "    computer_choice = random.choice(elems)\n",
    "    \n",
    "    user_choice = input('Enter your choice (Stone, paper, scissor)').lower()\n",
    "    \n",
    "    while user_choice not in elems:\n",
    "        print('Invalid Answer, try again')\n",
    "        user_choice = input('Enter your choice (Stone, paper, scissor)').lower()\n",
    "    \n",
    "    \n",
    "    print('=====================')\n",
    "    print('computer choice:', computer_choice)\n",
    "    print('user choice:', user_choice)\n",
    "    print('=====================\\n\\n')\n",
    "    \n",
    "    # Deciding who WON\n",
    "    \n",
    "    if user_choice == computer_choice:\n",
    "        print('Its a tie')\n",
    "    \n",
    "    elif (user_choice=='stone' and computer_choice=='scissor') or \\\n",
    "        (user_choice=='paper' and computer_choice=='stone') or \\\n",
    "        (user_choice=='scissor' and computer_choice=='paper'):\n",
    "        print('You win')\n",
    "        print('Computer Lose')\n",
    "    \n",
    "    else:\n",
    "        print('You Lose')\n",
    "        print('Computer Wins')"
   ]
  },
  {
   "cell_type": "code",
   "execution_count": 17,
   "id": "5529969a-7290-49d8-af58-cc18aa289d0a",
   "metadata": {},
   "outputs": [
    {
     "name": "stdin",
     "output_type": "stream",
     "text": [
      "Enter your choice (Stone, paper, scissor) paper\n"
     ]
    },
    {
     "name": "stdout",
     "output_type": "stream",
     "text": [
      "=====================\n",
      "computer choice: paper\n",
      "user choice: paper\n",
      "=====================\n",
      "\n",
      "\n",
      "Its a tie\n"
     ]
    }
   ],
   "source": [
    "play()"
   ]
  },
  {
   "cell_type": "code",
   "execution_count": null,
   "id": "0a3d2f3e-80c0-4a5a-a330-8e4bba6ec3df",
   "metadata": {},
   "outputs": [],
   "source": []
  }
 ],
 "metadata": {
  "kernelspec": {
   "display_name": "Python 3 (ipykernel)",
   "language": "python",
   "name": "python3"
  },
  "language_info": {
   "codemirror_mode": {
    "name": "ipython",
    "version": 3
   },
   "file_extension": ".py",
   "mimetype": "text/x-python",
   "name": "python",
   "nbconvert_exporter": "python",
   "pygments_lexer": "ipython3",
   "version": "3.12.7"
  }
 },
 "nbformat": 4,
 "nbformat_minor": 5
}
