{
 "cells": [
  {
   "cell_type": "code",
   "execution_count": 1,
   "id": "d385573c-b599-426d-974e-2b2553afde2b",
   "metadata": {},
   "outputs": [],
   "source": [
    "a = (True, 'string', 1, [1,2,3], (1,2,3), '435')\n",
    "a = [True, 'string', 1, [1,2,3], (1,2,3), '435']"
   ]
  },
  {
   "cell_type": "code",
   "execution_count": 2,
   "id": "0421f82f-dde3-4ff0-a98b-5ebfcbac9948",
   "metadata": {},
   "outputs": [],
   "source": [
    "students = ['Ahmad', 'Ali', 'Abdullah']\n",
    "marks = [43, 56, 75]"
   ]
  },
  {
   "cell_type": "code",
   "execution_count": 10,
   "id": "7b3788fd-f522-4caf-a33d-0f2076c2f6c2",
   "metadata": {},
   "outputs": [],
   "source": [
    "marks_data = {'Ahmad':43, \n",
    "              'Ali':56, \n",
    "              'Abdullah':75}\n",
    "\n",
    "                # keys  values"
   ]
  },
  {
   "cell_type": "code",
   "execution_count": 11,
   "id": "48b5d8ac-dd6d-4ab0-9c0d-72aed6f71365",
   "metadata": {},
   "outputs": [
    {
     "data": {
      "text/plain": [
       "75"
      ]
     },
     "execution_count": 11,
     "metadata": {},
     "output_type": "execute_result"
    }
   ],
   "source": [
    "marks_data['Abdullah']"
   ]
  },
  {
   "cell_type": "code",
   "execution_count": 13,
   "id": "0018563a-f0a2-4555-93e6-17827f2ea696",
   "metadata": {},
   "outputs": [
    {
     "data": {
      "text/plain": [
       "dict_values([43, 56, 75])"
      ]
     },
     "execution_count": 13,
     "metadata": {},
     "output_type": "execute_result"
    }
   ],
   "source": [
    "marks_data.values()"
   ]
  },
  {
   "cell_type": "code",
   "execution_count": 14,
   "id": "a45f38e7-819e-480c-bbb0-e0108afcf886",
   "metadata": {},
   "outputs": [
    {
     "data": {
      "text/plain": [
       "dict_keys(['Ahmad', 'Ali', 'Abdullah'])"
      ]
     },
     "execution_count": 14,
     "metadata": {},
     "output_type": "execute_result"
    }
   ],
   "source": [
    "marks_data.keys()"
   ]
  },
  {
   "cell_type": "code",
   "execution_count": 15,
   "id": "799c21e3-18d9-4f3b-9cdc-61ab149d1cb1",
   "metadata": {},
   "outputs": [
    {
     "data": {
      "text/plain": [
       "dict_items([('Ahmad', 43), ('Ali', 56), ('Abdullah', 75)])"
      ]
     },
     "execution_count": 15,
     "metadata": {},
     "output_type": "execute_result"
    }
   ],
   "source": [
    "marks_data.items()"
   ]
  },
  {
   "cell_type": "markdown",
   "id": "938ff373-72b1-40a3-96cb-4380f8c24e4d",
   "metadata": {},
   "source": [
    "### iterations in dictionary"
   ]
  },
  {
   "cell_type": "code",
   "execution_count": 16,
   "id": "8dedc5e8-1888-4110-af5e-0be05020900b",
   "metadata": {},
   "outputs": [
    {
     "name": "stdout",
     "output_type": "stream",
     "text": [
      "Ahmad\n",
      "Ali\n",
      "Abdullah\n",
      "43\n",
      "56\n",
      "75\n",
      "('Ahmad', 43)\n",
      "('Ali', 56)\n",
      "('Abdullah', 75)\n"
     ]
    }
   ],
   "source": [
    "for i in marks_data.keys():\n",
    "    print(i)\n",
    "\n",
    "for i in marks_data.values():\n",
    "    print(i)\n",
    "\n",
    "for i in marks_data.items():\n",
    "    print(i)"
   ]
  },
  {
   "cell_type": "code",
   "execution_count": 17,
   "id": "bfabc878-c2db-4b7f-9eef-3f6453bb0e27",
   "metadata": {},
   "outputs": [],
   "source": [
    "a = [(3,4), (3,4), (5,6)]"
   ]
  },
  {
   "cell_type": "code",
   "execution_count": 19,
   "id": "9fc6408b-9ac0-4a4f-8680-8e8df0ca3785",
   "metadata": {},
   "outputs": [
    {
     "name": "stdout",
     "output_type": "stream",
     "text": [
      "(3, 4)\n",
      "(3, 4)\n",
      "(5, 6)\n"
     ]
    }
   ],
   "source": [
    "for i in a:\n",
    "    print(i)"
   ]
  },
  {
   "cell_type": "code",
   "execution_count": null,
   "id": "7f9073cb-4077-4e04-a3de-e07b022493e9",
   "metadata": {},
   "outputs": [],
   "source": []
  }
 ],
 "metadata": {
  "kernelspec": {
   "display_name": "Python 3 (ipykernel)",
   "language": "python",
   "name": "python3"
  },
  "language_info": {
   "codemirror_mode": {
    "name": "ipython",
    "version": 3
   },
   "file_extension": ".py",
   "mimetype": "text/x-python",
   "name": "python",
   "nbconvert_exporter": "python",
   "pygments_lexer": "ipython3",
   "version": "3.12.7"
  }
 },
 "nbformat": 4,
 "nbformat_minor": 5
}
