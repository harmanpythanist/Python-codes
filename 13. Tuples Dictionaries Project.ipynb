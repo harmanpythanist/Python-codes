{
 "cells": [
  {
   "cell_type": "markdown",
   "id": "759c7356-39c8-4670-85ee-48e0d9a85563",
   "metadata": {},
   "source": [
    "## Add or Delete key value pair"
   ]
  },
  {
   "cell_type": "code",
   "execution_count": 1,
   "id": "4399760f-75fb-4cad-9b38-5e9a81f007a1",
   "metadata": {},
   "outputs": [],
   "source": [
    "marks = {'Saqlain': 34,\n",
    "        'Ali': 43,\n",
    "        'Huzaifa': 50,\n",
    "        'Saad': 54,\n",
    "        'Shahzaib': 54,\n",
    "        'Abdullah': 65}\n",
    "\n"
   ]
  },
  {
   "cell_type": "code",
   "execution_count": 2,
   "id": "ea9d2db6-7b33-4a51-a5e1-ebefbe479d41",
   "metadata": {},
   "outputs": [],
   "source": [
    "marks['Mehmood'] = 57"
   ]
  },
  {
   "cell_type": "code",
   "execution_count": 3,
   "id": "0778a6a4-b68c-42bc-b47c-dab2b2b86628",
   "metadata": {},
   "outputs": [
    {
     "data": {
      "text/plain": [
       "{'Saqlain': 34,\n",
       " 'Ali': 43,\n",
       " 'Huzaifa': 50,\n",
       " 'Saad': 54,\n",
       " 'Shahzaib': 54,\n",
       " 'Abdullah': 65,\n",
       " 'Mehmood': 57}"
      ]
     },
     "execution_count": 3,
     "metadata": {},
     "output_type": "execute_result"
    }
   ],
   "source": [
    "marks"
   ]
  },
  {
   "cell_type": "code",
   "execution_count": 4,
   "id": "1e043bca-ea9b-4968-b092-005b5817237b",
   "metadata": {},
   "outputs": [],
   "source": [
    "del marks['Ali']"
   ]
  },
  {
   "cell_type": "code",
   "execution_count": 5,
   "id": "b40a8e05-625e-4433-a232-07258f345bc2",
   "metadata": {},
   "outputs": [
    {
     "data": {
      "text/plain": [
       "{'Saqlain': 34,\n",
       " 'Huzaifa': 50,\n",
       " 'Saad': 54,\n",
       " 'Shahzaib': 54,\n",
       " 'Abdullah': 65,\n",
       " 'Mehmood': 57}"
      ]
     },
     "execution_count": 5,
     "metadata": {},
     "output_type": "execute_result"
    }
   ],
   "source": [
    "marks"
   ]
  },
  {
   "cell_type": "code",
   "execution_count": 6,
   "id": "63d2f9e0-6af6-42b4-9163-10d475ce623b",
   "metadata": {},
   "outputs": [],
   "source": [
    "marks['Ali'] = 76"
   ]
  },
  {
   "cell_type": "code",
   "execution_count": 7,
   "id": "e83c6aeb-b95e-48aa-87b3-b943e1bc3d4c",
   "metadata": {},
   "outputs": [
    {
     "data": {
      "text/plain": [
       "{'Saqlain': 34,\n",
       " 'Huzaifa': 50,\n",
       " 'Saad': 54,\n",
       " 'Shahzaib': 54,\n",
       " 'Abdullah': 65,\n",
       " 'Mehmood': 57,\n",
       " 'Ali': 76}"
      ]
     },
     "execution_count": 7,
     "metadata": {},
     "output_type": "execute_result"
    }
   ],
   "source": [
    "marks"
   ]
  },
  {
   "cell_type": "markdown",
   "id": "67a50cea-9d8e-4cb0-968d-3fdb58f8f69c",
   "metadata": {},
   "source": [
    "## Tuples"
   ]
  },
  {
   "cell_type": "code",
   "execution_count": 27,
   "id": "8ce9f501-ec35-4cc9-a818-12792f76f2c1",
   "metadata": {},
   "outputs": [],
   "source": [
    "a = (1, 2, 3, 4, 5)\n",
    "b = (3,)\n",
    "c = (4)\n",
    "d = 1, 2, 3, 4, 5"
   ]
  },
  {
   "cell_type": "code",
   "execution_count": 28,
   "id": "5828d185-6ab9-4d12-8de4-034505ab622b",
   "metadata": {},
   "outputs": [
    {
     "name": "stdout",
     "output_type": "stream",
     "text": [
      "<class 'tuple'>\n",
      "<class 'tuple'>\n",
      "<class 'int'>\n",
      "<class 'tuple'>\n"
     ]
    }
   ],
   "source": [
    "print(type(a))\n",
    "print(type(b))\n",
    "print(type(c))\n",
    "print(type(d))"
   ]
  },
  {
   "cell_type": "markdown",
   "id": "aea432ce-0fd5-42a8-8485-00a28b948189",
   "metadata": {},
   "source": [
    "### Tuples do not encourage change"
   ]
  },
  {
   "cell_type": "code",
   "execution_count": 29,
   "id": "55640760-3de5-4748-ba39-151ab37349be",
   "metadata": {},
   "outputs": [
    {
     "name": "stdout",
     "output_type": "stream",
     "text": [
      "(1, 2, 3, 4, 5)\n"
     ]
    }
   ],
   "source": [
    "print(a)"
   ]
  },
  {
   "cell_type": "code",
   "execution_count": 30,
   "id": "e057161b-a7b1-410b-80f3-7d9a3b410cb0",
   "metadata": {},
   "outputs": [
    {
     "ename": "TypeError",
     "evalue": "'tuple' object doesn't support item deletion",
     "output_type": "error",
     "traceback": [
      "\u001b[1;31m---------------------------------------------------------------------------\u001b[0m",
      "\u001b[1;31mTypeError\u001b[0m                                 Traceback (most recent call last)",
      "Cell \u001b[1;32mIn[30], line 1\u001b[0m\n\u001b[1;32m----> 1\u001b[0m \u001b[38;5;28;01mdel\u001b[39;00m a[\u001b[38;5;241m0\u001b[39m]\n",
      "\u001b[1;31mTypeError\u001b[0m: 'tuple' object doesn't support item deletion"
     ]
    }
   ],
   "source": [
    "del a[0]"
   ]
  },
  {
   "cell_type": "code",
   "execution_count": 31,
   "id": "c296ba4a-7333-4969-ab72-b3df11450bcc",
   "metadata": {},
   "outputs": [
    {
     "ename": "TypeError",
     "evalue": "'tuple' object does not support item assignment",
     "output_type": "error",
     "traceback": [
      "\u001b[1;31m---------------------------------------------------------------------------\u001b[0m",
      "\u001b[1;31mTypeError\u001b[0m                                 Traceback (most recent call last)",
      "Cell \u001b[1;32mIn[31], line 1\u001b[0m\n\u001b[1;32m----> 1\u001b[0m a[\u001b[38;5;241m0\u001b[39m] \u001b[38;5;241m=\u001b[39m \u001b[38;5;241m7\u001b[39m\n",
      "\u001b[1;31mTypeError\u001b[0m: 'tuple' object does not support item assignment"
     ]
    }
   ],
   "source": [
    "a[0] = 7"
   ]
  },
  {
   "cell_type": "code",
   "execution_count": 32,
   "id": "a9ed17ba-eb6f-4771-8d55-ac8f1aad26f7",
   "metadata": {},
   "outputs": [],
   "source": [
    "del a"
   ]
  },
  {
   "cell_type": "code",
   "execution_count": 33,
   "id": "12780007-9ba5-4f14-90fa-9bc39d63644e",
   "metadata": {},
   "outputs": [
    {
     "ename": "NameError",
     "evalue": "name 'a' is not defined",
     "output_type": "error",
     "traceback": [
      "\u001b[1;31m---------------------------------------------------------------------------\u001b[0m",
      "\u001b[1;31mNameError\u001b[0m                                 Traceback (most recent call last)",
      "Cell \u001b[1;32mIn[33], line 1\u001b[0m\n\u001b[1;32m----> 1\u001b[0m \u001b[38;5;28mprint\u001b[39m(a)\n",
      "\u001b[1;31mNameError\u001b[0m: name 'a' is not defined"
     ]
    }
   ],
   "source": [
    "print(a)"
   ]
  },
  {
   "cell_type": "markdown",
   "id": "a599569b-4821-43a2-bfec-11e7014d56e8",
   "metadata": {},
   "source": [
    "## Mini project dictionaries and tuple"
   ]
  },
  {
   "cell_type": "code",
   "execution_count": null,
   "id": "1aef4d89-fe1f-4158-9f30-7bf2bd733912",
   "metadata": {},
   "outputs": [],
   "source": [
    "# Store marks of students in dictionary\n",
    "\n",
    "# Ahmad = Science, Arts, Biology, Computer\n",
    "# 'Ahmad', (34, 56, 76, 67)"
   ]
  },
  {
   "cell_type": "code",
   "execution_count": 76,
   "id": "eb429295-1368-4837-a039-4fca5a2a97ff",
   "metadata": {},
   "outputs": [
    {
     "name": "stdin",
     "output_type": "stream",
     "text": [
      "Do you want to continue:  yes\n",
      "Enter name of student:  Murtaza\n",
      "Enter marks:  45\n"
     ]
    },
    {
     "name": "stdout",
     "output_type": "stream",
     "text": [
      "\n",
      "\n",
      "\n",
      "{'Murtaza': (45,)}\n",
      "\n",
      "\n",
      "\n"
     ]
    },
    {
     "name": "stdin",
     "output_type": "stream",
     "text": [
      "Do you want to continue:  yes\n",
      "Enter name of student:  Ali\n",
      "Enter marks:  65\n"
     ]
    },
    {
     "name": "stdout",
     "output_type": "stream",
     "text": [
      "\n",
      "\n",
      "\n",
      "{'Murtaza': (45,), 'Ali': (65,)}\n",
      "\n",
      "\n",
      "\n"
     ]
    },
    {
     "name": "stdin",
     "output_type": "stream",
     "text": [
      "Do you want to continue:  yes\n",
      "Enter name of student:  Usman\n",
      "Enter marks:  67\n"
     ]
    },
    {
     "name": "stdout",
     "output_type": "stream",
     "text": [
      "\n",
      "\n",
      "\n",
      "{'Murtaza': (45,), 'Ali': (65,), 'Usman': (67,)}\n",
      "\n",
      "\n",
      "\n"
     ]
    },
    {
     "name": "stdin",
     "output_type": "stream",
     "text": [
      "Do you want to continue:  yes\n",
      "Enter name of student:  Murtaza\n",
      "Enter marks:  89\n"
     ]
    },
    {
     "name": "stdout",
     "output_type": "stream",
     "text": [
      "\n",
      "\n",
      "\n",
      "{'Murtaza': (45, 89), 'Ali': (65,), 'Usman': (67,)}\n",
      "\n",
      "\n",
      "\n"
     ]
    },
    {
     "name": "stdin",
     "output_type": "stream",
     "text": [
      "Do you want to continue:  yes\n",
      "Enter name of student:  Bilal\n",
      "Enter marks:  23\n"
     ]
    },
    {
     "name": "stdout",
     "output_type": "stream",
     "text": [
      "\n",
      "\n",
      "\n",
      "{'Murtaza': (45, 89), 'Ali': (65,), 'Usman': (67,), 'Bilal': (23,)}\n",
      "\n",
      "\n",
      "\n"
     ]
    },
    {
     "name": "stdin",
     "output_type": "stream",
     "text": [
      "Do you want to continue:  yes\n",
      "Enter name of student:  Saad\n",
      "Enter marks:  32\n"
     ]
    },
    {
     "name": "stdout",
     "output_type": "stream",
     "text": [
      "\n",
      "\n",
      "\n",
      "{'Murtaza': (45, 89), 'Ali': (65,), 'Usman': (67,), 'Bilal': (23,), 'Saad': (32,)}\n",
      "\n",
      "\n",
      "\n"
     ]
    },
    {
     "name": "stdin",
     "output_type": "stream",
     "text": [
      "Do you want to continue:  Usman\n",
      "Enter name of student:  56\n",
      "Enter marks:  34\n"
     ]
    },
    {
     "name": "stdout",
     "output_type": "stream",
     "text": [
      "\n",
      "\n",
      "\n",
      "{'Murtaza': (45, 89), 'Ali': (65,), 'Usman': (67,), 'Bilal': (23,), 'Saad': (32,), '56': (34,)}\n",
      "\n",
      "\n",
      "\n"
     ]
    },
    {
     "name": "stdin",
     "output_type": "stream",
     "text": [
      "Do you want to continue:  yes\n",
      "Enter name of student:  Usman\n",
      "Enter marks:  45\n"
     ]
    },
    {
     "name": "stdout",
     "output_type": "stream",
     "text": [
      "\n",
      "\n",
      "\n",
      "{'Murtaza': (45, 89), 'Ali': (65,), 'Usman': (67, 45), 'Bilal': (23,), 'Saad': (32,), '56': (34,)}\n",
      "\n",
      "\n",
      "\n"
     ]
    },
    {
     "name": "stdin",
     "output_type": "stream",
     "text": [
      "Do you want to continue:  Bilal\n",
      "Enter name of student:  43\n",
      "Enter marks:  45\n"
     ]
    },
    {
     "name": "stdout",
     "output_type": "stream",
     "text": [
      "\n",
      "\n",
      "\n",
      "{'Murtaza': (45, 89), 'Ali': (65,), 'Usman': (67, 45), 'Bilal': (23,), 'Saad': (32,), '56': (34,), '43': (45,)}\n",
      "\n",
      "\n",
      "\n"
     ]
    },
    {
     "name": "stdin",
     "output_type": "stream",
     "text": [
      "Do you want to continue:  yes\n",
      "Enter name of student:  Bilal\n",
      "Enter marks:  34\n"
     ]
    },
    {
     "name": "stdout",
     "output_type": "stream",
     "text": [
      "\n",
      "\n",
      "\n",
      "{'Murtaza': (45, 89), 'Ali': (65,), 'Usman': (67, 45), 'Bilal': (23, 34), 'Saad': (32,), '56': (34,), '43': (45,)}\n",
      "\n",
      "\n",
      "\n"
     ]
    },
    {
     "name": "stdin",
     "output_type": "stream",
     "text": [
      "Do you want to continue:  yes\n",
      "Enter name of student:  Murtaza\n",
      "Enter marks:  87\n"
     ]
    },
    {
     "name": "stdout",
     "output_type": "stream",
     "text": [
      "\n",
      "\n",
      "\n",
      "{'Murtaza': (45, 89, 87), 'Ali': (65,), 'Usman': (67, 45), 'Bilal': (23, 34), 'Saad': (32,), '56': (34,), '43': (45,)}\n",
      "\n",
      "\n",
      "\n"
     ]
    },
    {
     "name": "stdin",
     "output_type": "stream",
     "text": [
      "Do you want to continue:  yes\n",
      "Enter name of student:  Usman\n",
      "Enter marks:  56\n"
     ]
    },
    {
     "name": "stdout",
     "output_type": "stream",
     "text": [
      "\n",
      "\n",
      "\n",
      "{'Murtaza': (45, 89, 87), 'Ali': (65,), 'Usman': (67, 45, 56), 'Bilal': (23, 34), 'Saad': (32,), '56': (34,), '43': (45,)}\n",
      "\n",
      "\n",
      "\n"
     ]
    },
    {
     "name": "stdin",
     "output_type": "stream",
     "text": [
      "Do you want to continue:  Ali\n",
      "Enter name of student:  Ali\n",
      "Enter marks:  43\n"
     ]
    },
    {
     "name": "stdout",
     "output_type": "stream",
     "text": [
      "\n",
      "\n",
      "\n",
      "{'Murtaza': (45, 89, 87), 'Ali': (65, 43), 'Usman': (67, 45, 56), 'Bilal': (23, 34), 'Saad': (32,), '56': (34,), '43': (45,)}\n",
      "\n",
      "\n",
      "\n"
     ]
    },
    {
     "name": "stdin",
     "output_type": "stream",
     "text": [
      "Do you want to continue:  no\n"
     ]
    },
    {
     "name": "stdout",
     "output_type": "stream",
     "text": [
      "\n",
      "\n",
      "\n",
      "\n",
      "Average of Murtaza is 73.66666666666667\n",
      "Average of Ali is 54.0\n",
      "Average of Usman is 56.0\n",
      "Average of Bilal is 28.5\n",
      "Average of Saad is 32.0\n",
      "Average of 56 is 34.0\n",
      "Average of 43 is 45.0\n"
     ]
    }
   ],
   "source": [
    "data = {}\n",
    "\n",
    "while True:\n",
    "    choice = input('Do you want to continue: ')\n",
    "    if choice in ['no', 'No', 'Not', 'not', 'nope']:\n",
    "        break\n",
    "    \n",
    "    name = input('Enter name of student: ')  # Abdullah\n",
    "    marks = int(input('Enter marks: '))      # 45\n",
    "\n",
    "    if name not in data:\n",
    "        data[name] = (marks,)\n",
    "       # data['Abdullah'] = (45,)\n",
    "\n",
    "    elif name in data:\n",
    "        data[name] = data[name] + (marks,)\n",
    "    print('\\n\\n')\n",
    "    print(data)\n",
    "    print('\\n\\n')\n",
    "\n",
    "print('\\n\\n\\n')\n",
    "for name, marks in data.items():\n",
    "    average = sum(marks) / len(marks)\n",
    "    print('Average of', name, 'is', average)"
   ]
  },
  {
   "cell_type": "code",
   "execution_count": 73,
   "id": "cbfaa04a-31aa-45bc-9dd4-4fd92a9f7fd2",
   "metadata": {},
   "outputs": [
    {
     "data": {
      "text/plain": [
       "(89, 90, 100)"
      ]
     },
     "execution_count": 73,
     "metadata": {},
     "output_type": "execute_result"
    }
   ],
   "source": [
    "a = {'hamad': (56, 45), \n",
    "     'Abdullah': (45, 90, 30), \n",
    "     'Ali': (45, 56), \n",
    "     'Alian': (89, 90, 100)}\n",
    "\n",
    "a['Alian']"
   ]
  },
  {
   "cell_type": "code",
   "execution_count": 51,
   "id": "0e631ed6-58d5-4abf-bd23-050449319e88",
   "metadata": {},
   "outputs": [
    {
     "name": "stdout",
     "output_type": "stream",
     "text": [
      "hamad: 93.0\n",
      "Abdullah: 93.0\n",
      "Ali: 93.0\n",
      "Alian: 93.0\n"
     ]
    }
   ],
   "source": [
    "average = []\n",
    "for i in a.values():\n",
    "    \n",
    "    length = len(i)\n",
    "    summ = sum(i)\n",
    "    average.append(summ / length)\n",
    "\n",
    "\n",
    "for j in a:\n",
    "    print(j + ':', average)"
   ]
  },
  {
   "cell_type": "code",
   "execution_count": 57,
   "id": "e2c32b72-5d79-47a3-a7ff-ab39bd6cf353",
   "metadata": {},
   "outputs": [
    {
     "name": "stdout",
     "output_type": "stream",
     "text": [
      "Average of hamad is 50.5\n",
      "Average of Abdullah is 55.0\n",
      "Average of Ali is 50.5\n",
      "Average of Alian is 93.0\n"
     ]
    }
   ],
   "source": [
    "for i in a:\n",
    "    name = i\n",
    "    marks = a[i]\n",
    "    average = sum(marks) / len(marks)\n",
    "    print('Average of', name, 'is', average)"
   ]
  },
  {
   "cell_type": "code",
   "execution_count": 68,
   "id": "d3eb0263-3601-4fd1-af98-bf1e1220500e",
   "metadata": {},
   "outputs": [
    {
     "name": "stdout",
     "output_type": "stream",
     "text": [
      "Average of hamad is 50.5\n",
      "Average of Abdullah is 55.0\n",
      "Average of Ali is 50.5\n",
      "Average of Alian is 93.0\n"
     ]
    }
   ],
   "source": [
    "for i in a.items():\n",
    "    #print(i)\n",
    "    name, marks = i\n",
    "    average = sum(marks) / len(marks)\n",
    "    print('Average of', name, 'is', average)\n",
    "    "
   ]
  },
  {
   "cell_type": "code",
   "execution_count": 69,
   "id": "d85cbd22-09c7-49d9-94e3-45fbab2a4c2f",
   "metadata": {},
   "outputs": [
    {
     "name": "stdout",
     "output_type": "stream",
     "text": [
      "Average of hamad is 50.5\n",
      "Average of Abdullah is 55.0\n",
      "Average of Ali is 50.5\n",
      "Average of Alian is 93.0\n"
     ]
    }
   ],
   "source": [
    "for name, marks in a.items():\n",
    "    average = sum(marks) / len(marks)\n",
    "    print('Average of', name, 'is', average)\n",
    "    "
   ]
  },
  {
   "cell_type": "markdown",
   "id": "2e6052b2-561e-4db6-b578-1528fe26fd56",
   "metadata": {},
   "source": [
    "#### Testing"
   ]
  },
  {
   "cell_type": "code",
   "execution_count": 65,
   "id": "96774212-dbdc-4400-8515-46be9c055a72",
   "metadata": {},
   "outputs": [
    {
     "name": "stdout",
     "output_type": "stream",
     "text": [
      "Ali\n",
      "(34, 54)\n"
     ]
    }
   ],
   "source": [
    "i = ('Ali', (34,54))\n",
    "\n",
    "name, marks = i\n",
    "\n",
    "print(name)\n",
    "print(marks)"
   ]
  },
  {
   "cell_type": "code",
   "execution_count": 74,
   "id": "19112272-99a8-4292-898d-92d123b90e8a",
   "metadata": {},
   "outputs": [
    {
     "name": "stdout",
     "output_type": "stream",
     "text": [
      "hamad\n",
      "Abdullah\n",
      "Ali\n",
      "Alian\n"
     ]
    }
   ],
   "source": [
    "for i in a:\n",
    "    print(i)"
   ]
  },
  {
   "cell_type": "code",
   "execution_count": 75,
   "id": "f3d296e3-0da7-4512-979f-f6a8e2b0a441",
   "metadata": {},
   "outputs": [
    {
     "name": "stdout",
     "output_type": "stream",
     "text": [
      "('hamad', (56, 45))\n",
      "('Abdullah', (45, 90, 30))\n",
      "('Ali', (45, 56))\n",
      "('Alian', (89, 90, 100))\n"
     ]
    }
   ],
   "source": [
    "for i in a.items():\n",
    "    print(i)"
   ]
  },
  {
   "cell_type": "code",
   "execution_count": null,
   "id": "bb46ef16-6b8c-4363-ad55-75d43fb34738",
   "metadata": {},
   "outputs": [],
   "source": []
  }
 ],
 "metadata": {
  "kernelspec": {
   "display_name": "Python 3 (ipykernel)",
   "language": "python",
   "name": "python3"
  },
  "language_info": {
   "codemirror_mode": {
    "name": "ipython",
    "version": 3
   },
   "file_extension": ".py",
   "mimetype": "text/x-python",
   "name": "python",
   "nbconvert_exporter": "python",
   "pygments_lexer": "ipython3",
   "version": "3.12.7"
  }
 },
 "nbformat": 4,
 "nbformat_minor": 5
}
