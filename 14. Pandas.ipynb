{
 "cells": [
  {
   "cell_type": "markdown",
   "id": "766a5f97-230c-4548-9755-63599a738e36",
   "metadata": {},
   "source": [
    "## Pandas"
   ]
  },
  {
   "cell_type": "code",
   "execution_count": 5,
   "id": "7ed07e3e-8b59-417c-b21e-63f92fc2f048",
   "metadata": {},
   "outputs": [],
   "source": [
    "# MATPLOTLIB -> data visualization\n",
    "# PANDAS -> data analysis\n",
    "import pandas as pd"
   ]
  },
  {
   "cell_type": "markdown",
   "id": "62f1f5e2-120f-4688-a1ad-65fc0e8781bb",
   "metadata": {},
   "source": [
    "### Load dataset"
   ]
  },
  {
   "cell_type": "code",
   "execution_count": 6,
   "id": "d38dae4a-cba6-402d-b25a-989ca6d79aa2",
   "metadata": {},
   "outputs": [],
   "source": [
    "file = pd.read_excel('D://my_worksheet.xlsx')"
   ]
  },
  {
   "cell_type": "code",
   "execution_count": 7,
   "id": "e03bdb34-a4c6-49d9-91f9-ae8c51dabf02",
   "metadata": {},
   "outputs": [
    {
     "data": {
      "text/html": [
       "<div>\n",
       "<style scoped>\n",
       "    .dataframe tbody tr th:only-of-type {\n",
       "        vertical-align: middle;\n",
       "    }\n",
       "\n",
       "    .dataframe tbody tr th {\n",
       "        vertical-align: top;\n",
       "    }\n",
       "\n",
       "    .dataframe thead th {\n",
       "        text-align: right;\n",
       "    }\n",
       "</style>\n",
       "<table border=\"1\" class=\"dataframe\">\n",
       "  <thead>\n",
       "    <tr style=\"text-align: right;\">\n",
       "      <th></th>\n",
       "      <th>Name</th>\n",
       "      <th>Salary</th>\n",
       "      <th>Incentive</th>\n",
       "      <th>Reinborement</th>\n",
       "    </tr>\n",
       "  </thead>\n",
       "  <tbody>\n",
       "    <tr>\n",
       "      <th>0</th>\n",
       "      <td>Abdullah</td>\n",
       "      <td>59000</td>\n",
       "      <td>12000</td>\n",
       "      <td>2000</td>\n",
       "    </tr>\n",
       "    <tr>\n",
       "      <th>1</th>\n",
       "      <td>Ali</td>\n",
       "      <td>64000</td>\n",
       "      <td>5000</td>\n",
       "      <td>7000</td>\n",
       "    </tr>\n",
       "    <tr>\n",
       "      <th>2</th>\n",
       "      <td>Omer</td>\n",
       "      <td>80000</td>\n",
       "      <td>500</td>\n",
       "      <td>4000</td>\n",
       "    </tr>\n",
       "    <tr>\n",
       "      <th>3</th>\n",
       "      <td>Usama</td>\n",
       "      <td>110000</td>\n",
       "      <td>15000</td>\n",
       "      <td>3540</td>\n",
       "    </tr>\n",
       "    <tr>\n",
       "      <th>4</th>\n",
       "      <td>Huzaifa</td>\n",
       "      <td>150000</td>\n",
       "      <td>3000</td>\n",
       "      <td>3790</td>\n",
       "    </tr>\n",
       "    <tr>\n",
       "      <th>5</th>\n",
       "      <td>Saad</td>\n",
       "      <td>45000</td>\n",
       "      <td>0</td>\n",
       "      <td>200</td>\n",
       "    </tr>\n",
       "  </tbody>\n",
       "</table>\n",
       "</div>"
      ],
      "text/plain": [
       "       Name  Salary  Incentive  Reinborement\n",
       "0  Abdullah   59000      12000          2000\n",
       "1       Ali   64000       5000          7000\n",
       "2      Omer   80000        500          4000\n",
       "3     Usama  110000      15000          3540\n",
       "4   Huzaifa  150000       3000          3790\n",
       "5      Saad   45000          0           200"
      ]
     },
     "execution_count": 7,
     "metadata": {},
     "output_type": "execute_result"
    }
   ],
   "source": [
    "file"
   ]
  },
  {
   "cell_type": "markdown",
   "id": "1a51cee3-0c09-4c85-aab8-56692f6566ca",
   "metadata": {},
   "source": [
    "### Access columns"
   ]
  },
  {
   "cell_type": "code",
   "execution_count": 14,
   "id": "b8cc66aa-9a1d-4102-8e23-56b81caa6238",
   "metadata": {},
   "outputs": [
    {
     "data": {
      "text/plain": [
       "0    Abdullah\n",
       "1         Ali\n",
       "2        Omer\n",
       "3       Usama\n",
       "4     Huzaifa\n",
       "5        Saad\n",
       "Name: Name, dtype: object"
      ]
     },
     "execution_count": 14,
     "metadata": {},
     "output_type": "execute_result"
    }
   ],
   "source": [
    "file['Name']"
   ]
  },
  {
   "cell_type": "code",
   "execution_count": 9,
   "id": "e10c3c1d-4a0e-4c47-88da-6286d15a17b0",
   "metadata": {},
   "outputs": [
    {
     "data": {
      "text/plain": [
       "0     59000\n",
       "1     64000\n",
       "2     80000\n",
       "3    110000\n",
       "4    150000\n",
       "5     45000\n",
       "Name: Salary, dtype: int64"
      ]
     },
     "execution_count": 9,
     "metadata": {},
     "output_type": "execute_result"
    }
   ],
   "source": [
    "file['Salary']"
   ]
  },
  {
   "cell_type": "code",
   "execution_count": 13,
   "id": "17bbd048-4c80-41fd-b950-6fbd97c7d361",
   "metadata": {},
   "outputs": [
    {
     "data": {
      "text/plain": [
       "15000"
      ]
     },
     "execution_count": 13,
     "metadata": {},
     "output_type": "execute_result"
    }
   ],
   "source": [
    "file['Incentive'][3]"
   ]
  },
  {
   "cell_type": "code",
   "execution_count": 18,
   "id": "36509d3a-7be7-44a1-90fe-0b651d55497b",
   "metadata": {},
   "outputs": [
    {
     "name": "stdout",
     "output_type": "stream",
     "text": [
      "Abdullah\n",
      "Ali\n",
      "Omer\n",
      "Usama\n",
      "Huzaifa\n",
      "Saad\n"
     ]
    }
   ],
   "source": [
    "names = file['Name']\n",
    "for i in names:\n",
    "    print(i)"
   ]
  },
  {
   "cell_type": "markdown",
   "id": "48f14d82-6c4a-40f6-90da-2085f65ba52f",
   "metadata": {},
   "source": [
    "### Methods"
   ]
  },
  {
   "cell_type": "code",
   "execution_count": 19,
   "id": "d0a2f7d3-b049-4891-b9cd-5940d016a89a",
   "metadata": {},
   "outputs": [
    {
     "data": {
      "text/html": [
       "<div>\n",
       "<style scoped>\n",
       "    .dataframe tbody tr th:only-of-type {\n",
       "        vertical-align: middle;\n",
       "    }\n",
       "\n",
       "    .dataframe tbody tr th {\n",
       "        vertical-align: top;\n",
       "    }\n",
       "\n",
       "    .dataframe thead th {\n",
       "        text-align: right;\n",
       "    }\n",
       "</style>\n",
       "<table border=\"1\" class=\"dataframe\">\n",
       "  <thead>\n",
       "    <tr style=\"text-align: right;\">\n",
       "      <th></th>\n",
       "      <th>Salary</th>\n",
       "      <th>Incentive</th>\n",
       "      <th>Reinborement</th>\n",
       "    </tr>\n",
       "  </thead>\n",
       "  <tbody>\n",
       "    <tr>\n",
       "      <th>count</th>\n",
       "      <td>6.000000</td>\n",
       "      <td>6.000000</td>\n",
       "      <td>6.000000</td>\n",
       "    </tr>\n",
       "    <tr>\n",
       "      <th>mean</th>\n",
       "      <td>84666.666667</td>\n",
       "      <td>5916.666667</td>\n",
       "      <td>3421.666667</td>\n",
       "    </tr>\n",
       "    <tr>\n",
       "      <th>std</th>\n",
       "      <td>38964.941507</td>\n",
       "      <td>6216.242166</td>\n",
       "      <td>2266.666422</td>\n",
       "    </tr>\n",
       "    <tr>\n",
       "      <th>min</th>\n",
       "      <td>45000.000000</td>\n",
       "      <td>0.000000</td>\n",
       "      <td>200.000000</td>\n",
       "    </tr>\n",
       "    <tr>\n",
       "      <th>25%</th>\n",
       "      <td>60250.000000</td>\n",
       "      <td>1125.000000</td>\n",
       "      <td>2385.000000</td>\n",
       "    </tr>\n",
       "    <tr>\n",
       "      <th>50%</th>\n",
       "      <td>72000.000000</td>\n",
       "      <td>4000.000000</td>\n",
       "      <td>3665.000000</td>\n",
       "    </tr>\n",
       "    <tr>\n",
       "      <th>75%</th>\n",
       "      <td>102500.000000</td>\n",
       "      <td>10250.000000</td>\n",
       "      <td>3947.500000</td>\n",
       "    </tr>\n",
       "    <tr>\n",
       "      <th>max</th>\n",
       "      <td>150000.000000</td>\n",
       "      <td>15000.000000</td>\n",
       "      <td>7000.000000</td>\n",
       "    </tr>\n",
       "  </tbody>\n",
       "</table>\n",
       "</div>"
      ],
      "text/plain": [
       "              Salary     Incentive  Reinborement\n",
       "count       6.000000      6.000000      6.000000\n",
       "mean    84666.666667   5916.666667   3421.666667\n",
       "std     38964.941507   6216.242166   2266.666422\n",
       "min     45000.000000      0.000000    200.000000\n",
       "25%     60250.000000   1125.000000   2385.000000\n",
       "50%     72000.000000   4000.000000   3665.000000\n",
       "75%    102500.000000  10250.000000   3947.500000\n",
       "max    150000.000000  15000.000000   7000.000000"
      ]
     },
     "execution_count": 19,
     "metadata": {},
     "output_type": "execute_result"
    }
   ],
   "source": [
    "file.describe()"
   ]
  },
  {
   "cell_type": "code",
   "execution_count": 20,
   "id": "53e18397-d550-4de2-b77a-2986bda2b2f3",
   "metadata": {},
   "outputs": [],
   "source": [
    "# STD = Standard deviation = Data deviated from mean point\n",
    "# Percentile = data equal to or less than\n"
   ]
  },
  {
   "cell_type": "code",
   "execution_count": 21,
   "id": "34556153-d50d-4f45-9be0-47be6928d5fd",
   "metadata": {},
   "outputs": [
    {
     "name": "stdout",
     "output_type": "stream",
     "text": [
      "<class 'pandas.core.frame.DataFrame'>\n",
      "RangeIndex: 6 entries, 0 to 5\n",
      "Data columns (total 4 columns):\n",
      " #   Column        Non-Null Count  Dtype \n",
      "---  ------        --------------  ----- \n",
      " 0   Name          6 non-null      object\n",
      " 1   Salary        6 non-null      int64 \n",
      " 2   Incentive     6 non-null      int64 \n",
      " 3   Reinborement  6 non-null      int64 \n",
      "dtypes: int64(3), object(1)\n",
      "memory usage: 324.0+ bytes\n"
     ]
    }
   ],
   "source": [
    "file.info()"
   ]
  },
  {
   "cell_type": "code",
   "execution_count": 25,
   "id": "7a70b8bd-1c77-4a74-a1df-1a8d034d6ea1",
   "metadata": {},
   "outputs": [
    {
     "data": {
      "text/plain": [
       "Index(['Name', 'Salary', 'Incentive', 'Reinborement'], dtype='object')"
      ]
     },
     "execution_count": 25,
     "metadata": {},
     "output_type": "execute_result"
    }
   ],
   "source": [
    "file.columns"
   ]
  },
  {
   "cell_type": "markdown",
   "id": "77bb1858-acc1-4032-a0ce-bcb2e331fc74",
   "metadata": {},
   "source": [
    "### MORE"
   ]
  },
  {
   "cell_type": "code",
   "execution_count": 33,
   "id": "6f7b61ac-ab62-401e-bf05-e0bdfb9511ee",
   "metadata": {},
   "outputs": [],
   "source": [
    "import numpy as np\n",
    "\n",
    "name = file['Name']\n",
    "salary = file['Salary']\n",
    "inc = file['Incentive']\n",
    "rb = file['Reinborement']"
   ]
  },
  {
   "cell_type": "code",
   "execution_count": 36,
   "id": "f8c12c59-8b0e-42c8-ad63-0f9a5141b197",
   "metadata": {},
   "outputs": [],
   "source": [
    "s = list(salary)"
   ]
  },
  {
   "cell_type": "code",
   "execution_count": 37,
   "id": "06d425b5-1c1b-458f-ad30-fd5b6d7cdd1c",
   "metadata": {},
   "outputs": [],
   "source": [
    "inc = list(inc)"
   ]
  },
  {
   "cell_type": "code",
   "execution_count": 38,
   "id": "a29ea6e4-d1a5-4fc8-8ace-3a8bef7da917",
   "metadata": {},
   "outputs": [],
   "source": [
    "r = list(rb)"
   ]
  },
  {
   "cell_type": "code",
   "execution_count": 31,
   "id": "94f5ecc2-1d5f-4f06-933f-85b5e0f5dd6f",
   "metadata": {},
   "outputs": [],
   "source": [
    "# [sum0, sum1, sum2, sum3, sum4]"
   ]
  },
  {
   "cell_type": "code",
   "execution_count": 39,
   "id": "7ba30967-3100-4e06-b244-43ae59f22b7a",
   "metadata": {},
   "outputs": [],
   "source": [
    "summm = []\n",
    "for i in range(6):\n",
    "    total = s[i] + inc[i] + r[i]\n",
    "    summm.append(total)"
   ]
  },
  {
   "cell_type": "code",
   "execution_count": 40,
   "id": "53d0012e-50fa-4646-9665-0a792ee1b019",
   "metadata": {},
   "outputs": [
    {
     "data": {
      "text/plain": [
       "[73000, 76000, 84500, 128540, 156790, 45200]"
      ]
     },
     "execution_count": 40,
     "metadata": {},
     "output_type": "execute_result"
    }
   ],
   "source": [
    "summm"
   ]
  },
  {
   "cell_type": "code",
   "execution_count": 42,
   "id": "29181ffa-cbdc-4adb-80a3-d8b7af13c1dc",
   "metadata": {},
   "outputs": [],
   "source": [
    "gross_salary = np.array(s) + np.array(inc) + np.array(r)"
   ]
  },
  {
   "cell_type": "code",
   "execution_count": 43,
   "id": "1018efed-9c98-4c1a-b131-5f022bc90ff2",
   "metadata": {},
   "outputs": [
    {
     "data": {
      "text/html": [
       "<div>\n",
       "<style scoped>\n",
       "    .dataframe tbody tr th:only-of-type {\n",
       "        vertical-align: middle;\n",
       "    }\n",
       "\n",
       "    .dataframe tbody tr th {\n",
       "        vertical-align: top;\n",
       "    }\n",
       "\n",
       "    .dataframe thead th {\n",
       "        text-align: right;\n",
       "    }\n",
       "</style>\n",
       "<table border=\"1\" class=\"dataframe\">\n",
       "  <thead>\n",
       "    <tr style=\"text-align: right;\">\n",
       "      <th></th>\n",
       "      <th>Name</th>\n",
       "      <th>Salary</th>\n",
       "      <th>Incentive</th>\n",
       "      <th>Reinborement</th>\n",
       "    </tr>\n",
       "  </thead>\n",
       "  <tbody>\n",
       "    <tr>\n",
       "      <th>0</th>\n",
       "      <td>Abdullah</td>\n",
       "      <td>59000</td>\n",
       "      <td>12000</td>\n",
       "      <td>2000</td>\n",
       "    </tr>\n",
       "    <tr>\n",
       "      <th>1</th>\n",
       "      <td>Ali</td>\n",
       "      <td>64000</td>\n",
       "      <td>5000</td>\n",
       "      <td>7000</td>\n",
       "    </tr>\n",
       "    <tr>\n",
       "      <th>2</th>\n",
       "      <td>Omer</td>\n",
       "      <td>80000</td>\n",
       "      <td>500</td>\n",
       "      <td>4000</td>\n",
       "    </tr>\n",
       "    <tr>\n",
       "      <th>3</th>\n",
       "      <td>Usama</td>\n",
       "      <td>110000</td>\n",
       "      <td>15000</td>\n",
       "      <td>3540</td>\n",
       "    </tr>\n",
       "    <tr>\n",
       "      <th>4</th>\n",
       "      <td>Huzaifa</td>\n",
       "      <td>150000</td>\n",
       "      <td>3000</td>\n",
       "      <td>3790</td>\n",
       "    </tr>\n",
       "    <tr>\n",
       "      <th>5</th>\n",
       "      <td>Saad</td>\n",
       "      <td>45000</td>\n",
       "      <td>0</td>\n",
       "      <td>200</td>\n",
       "    </tr>\n",
       "  </tbody>\n",
       "</table>\n",
       "</div>"
      ],
      "text/plain": [
       "       Name  Salary  Incentive  Reinborement\n",
       "0  Abdullah   59000      12000          2000\n",
       "1       Ali   64000       5000          7000\n",
       "2      Omer   80000        500          4000\n",
       "3     Usama  110000      15000          3540\n",
       "4   Huzaifa  150000       3000          3790\n",
       "5      Saad   45000          0           200"
      ]
     },
     "execution_count": 43,
     "metadata": {},
     "output_type": "execute_result"
    }
   ],
   "source": [
    "file"
   ]
  },
  {
   "cell_type": "code",
   "execution_count": 44,
   "id": "d4ecedcb-3c0e-4257-98df-d6ff67853302",
   "metadata": {},
   "outputs": [],
   "source": [
    "file['Gross_Salary'] = gross_salary"
   ]
  },
  {
   "cell_type": "code",
   "execution_count": 45,
   "id": "1d071c27-9189-46f7-9693-458bd4b7660c",
   "metadata": {},
   "outputs": [
    {
     "data": {
      "text/html": [
       "<div>\n",
       "<style scoped>\n",
       "    .dataframe tbody tr th:only-of-type {\n",
       "        vertical-align: middle;\n",
       "    }\n",
       "\n",
       "    .dataframe tbody tr th {\n",
       "        vertical-align: top;\n",
       "    }\n",
       "\n",
       "    .dataframe thead th {\n",
       "        text-align: right;\n",
       "    }\n",
       "</style>\n",
       "<table border=\"1\" class=\"dataframe\">\n",
       "  <thead>\n",
       "    <tr style=\"text-align: right;\">\n",
       "      <th></th>\n",
       "      <th>Name</th>\n",
       "      <th>Salary</th>\n",
       "      <th>Incentive</th>\n",
       "      <th>Reinborement</th>\n",
       "      <th>Gross_Salary</th>\n",
       "    </tr>\n",
       "  </thead>\n",
       "  <tbody>\n",
       "    <tr>\n",
       "      <th>0</th>\n",
       "      <td>Abdullah</td>\n",
       "      <td>59000</td>\n",
       "      <td>12000</td>\n",
       "      <td>2000</td>\n",
       "      <td>73000</td>\n",
       "    </tr>\n",
       "    <tr>\n",
       "      <th>1</th>\n",
       "      <td>Ali</td>\n",
       "      <td>64000</td>\n",
       "      <td>5000</td>\n",
       "      <td>7000</td>\n",
       "      <td>76000</td>\n",
       "    </tr>\n",
       "    <tr>\n",
       "      <th>2</th>\n",
       "      <td>Omer</td>\n",
       "      <td>80000</td>\n",
       "      <td>500</td>\n",
       "      <td>4000</td>\n",
       "      <td>84500</td>\n",
       "    </tr>\n",
       "    <tr>\n",
       "      <th>3</th>\n",
       "      <td>Usama</td>\n",
       "      <td>110000</td>\n",
       "      <td>15000</td>\n",
       "      <td>3540</td>\n",
       "      <td>128540</td>\n",
       "    </tr>\n",
       "    <tr>\n",
       "      <th>4</th>\n",
       "      <td>Huzaifa</td>\n",
       "      <td>150000</td>\n",
       "      <td>3000</td>\n",
       "      <td>3790</td>\n",
       "      <td>156790</td>\n",
       "    </tr>\n",
       "    <tr>\n",
       "      <th>5</th>\n",
       "      <td>Saad</td>\n",
       "      <td>45000</td>\n",
       "      <td>0</td>\n",
       "      <td>200</td>\n",
       "      <td>45200</td>\n",
       "    </tr>\n",
       "  </tbody>\n",
       "</table>\n",
       "</div>"
      ],
      "text/plain": [
       "       Name  Salary  Incentive  Reinborement  Gross_Salary\n",
       "0  Abdullah   59000      12000          2000         73000\n",
       "1       Ali   64000       5000          7000         76000\n",
       "2      Omer   80000        500          4000         84500\n",
       "3     Usama  110000      15000          3540        128540\n",
       "4   Huzaifa  150000       3000          3790        156790\n",
       "5      Saad   45000          0           200         45200"
      ]
     },
     "execution_count": 45,
     "metadata": {},
     "output_type": "execute_result"
    }
   ],
   "source": [
    "file"
   ]
  },
  {
   "cell_type": "code",
   "execution_count": 47,
   "id": "078c95ff-1a8a-48c7-b01e-7694b23014f4",
   "metadata": {},
   "outputs": [],
   "source": [
    "file.to_excel('D://updated_file.xlsx')"
   ]
  },
  {
   "cell_type": "code",
   "execution_count": 48,
   "id": "b0ea7f3d-3b8d-4af0-8cd7-0190b9dd1874",
   "metadata": {},
   "outputs": [],
   "source": [
    "file.to_csv('D://upd.csv')"
   ]
  },
  {
   "cell_type": "code",
   "execution_count": null,
   "id": "5b23af6b-1413-49ba-ba1d-7c9d4a6b9a1a",
   "metadata": {},
   "outputs": [],
   "source": []
  }
 ],
 "metadata": {
  "kernelspec": {
   "display_name": "Python 3 (ipykernel)",
   "language": "python",
   "name": "python3"
  },
  "language_info": {
   "codemirror_mode": {
    "name": "ipython",
    "version": 3
   },
   "file_extension": ".py",
   "mimetype": "text/x-python",
   "name": "python",
   "nbconvert_exporter": "python",
   "pygments_lexer": "ipython3",
   "version": "3.12.7"
  }
 },
 "nbformat": 4,
 "nbformat_minor": 5
}
