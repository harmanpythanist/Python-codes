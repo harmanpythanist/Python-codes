{
 "cells": [
  {
   "cell_type": "code",
   "execution_count": 1,
   "id": "a6aea0f6-52dd-49e8-8855-1981b44a7b7f",
   "metadata": {},
   "outputs": [],
   "source": [
    "import cv2"
   ]
  },
  {
   "cell_type": "code",
   "execution_count": 16,
   "id": "ee35ae1b-b43d-4077-a1e7-e97daca0c2ea",
   "metadata": {},
   "outputs": [],
   "source": [
    "img = cv2.imread('D://4.jpg')"
   ]
  },
  {
   "cell_type": "code",
   "execution_count": 17,
   "id": "392a664a-8a31-480c-b7b1-3d069ed57ee8",
   "metadata": {},
   "outputs": [
    {
     "data": {
      "text/plain": [
       "numpy.ndarray"
      ]
     },
     "execution_count": 17,
     "metadata": {},
     "output_type": "execute_result"
    }
   ],
   "source": [
    "type(img)"
   ]
  },
  {
   "cell_type": "code",
   "execution_count": 18,
   "id": "85968102-ec78-4877-8cf5-bea961952224",
   "metadata": {},
   "outputs": [
    {
     "data": {
      "text/plain": [
       "(1280, 720, 3)"
      ]
     },
     "execution_count": 18,
     "metadata": {},
     "output_type": "execute_result"
    }
   ],
   "source": [
    "img.shape"
   ]
  },
  {
   "cell_type": "code",
   "execution_count": 20,
   "id": "31d1bb16-585d-44d1-a0a5-b910e129ba50",
   "metadata": {},
   "outputs": [],
   "source": [
    "cv2.imshow('HARMAN', img)\n",
    "cv2.waitKey(0)\n",
    "cv2.destroyAllWindows()"
   ]
  },
  {
   "cell_type": "markdown",
   "id": "952c64d4-157c-47ea-a08a-9ed6c09a3704",
   "metadata": {},
   "source": [
    "## SHOW VIDEO / ACCESS CAMERA"
   ]
  },
  {
   "cell_type": "code",
   "execution_count": 24,
   "id": "ee01630f-81fc-4a75-9a50-f0a9e6af228a",
   "metadata": {},
   "outputs": [],
   "source": [
    "camera = cv2.VideoCapture(0)\n",
    "\n",
    "while True:\n",
    "    ret, frame = camera.read()\n",
    "\n",
    "    if not ret:\n",
    "        print('CAMERA NOT WORKING')\n",
    "        break\n",
    "\n",
    "    #gray = cv2.cvtColor(frame, cv2.COLOR_BGR2GRAY)\n",
    "\n",
    "    cv2.imshow('Video', gray)\n",
    "\n",
    "    if cv2.waitKey(1) & 0xff == ord('q'):\n",
    "        break\n",
    "\n",
    "\n",
    "camera.release()\n",
    "cv2.destroyAllWindows()"
   ]
  },
  {
   "cell_type": "code",
   "execution_count": null,
   "id": "405c3027-cf2a-4fcc-a669-2731beb7745e",
   "metadata": {},
   "outputs": [],
   "source": []
  },
  {
   "cell_type": "code",
   "execution_count": 28,
   "id": "72568089-2534-4c41-ac66-40c6a0dd3df0",
   "metadata": {},
   "outputs": [],
   "source": [
    "camera = cv2.VideoCapture(0)\n",
    "\n",
    "\n",
    "ret, frame = camera.read()"
   ]
  },
  {
   "cell_type": "code",
   "execution_count": null,
   "id": "21b2fb5d-3dca-4085-a928-92b234db0a54",
   "metadata": {},
   "outputs": [],
   "source": []
  },
  {
   "cell_type": "code",
   "execution_count": 29,
   "id": "cafe72b5-8fc3-4dec-a961-affc695a633f",
   "metadata": {},
   "outputs": [
    {
     "data": {
      "text/plain": [
       "True"
      ]
     },
     "execution_count": 29,
     "metadata": {},
     "output_type": "execute_result"
    }
   ],
   "source": [
    "ret"
   ]
  },
  {
   "cell_type": "code",
   "execution_count": 30,
   "id": "26b3866b-519e-40c8-a513-0264da5a4503",
   "metadata": {},
   "outputs": [],
   "source": [
    "cv2.imshow('HARMAN', frame)\n",
    "cv2.waitKey(0)\n",
    "cv2.destroyAllWindows\n",
    "camera.release()"
   ]
  },
  {
   "cell_type": "markdown",
   "id": "35b5a58d-a429-4f90-ac5a-162ee659ed0d",
   "metadata": {},
   "source": [
    "## FACE DETECTION"
   ]
  },
  {
   "cell_type": "code",
   "execution_count": 1,
   "id": "69bf9e4e-8231-4fd5-b912-a99c1f51b5da",
   "metadata": {},
   "outputs": [],
   "source": [
    "import cv2"
   ]
  },
  {
   "cell_type": "code",
   "execution_count": 2,
   "id": "e8812f4c-c6a1-4cf0-a1e0-99b3a4734f79",
   "metadata": {},
   "outputs": [],
   "source": [
    "face_detector = cv2.CascadeClassifier(cv2.data.haarcascades + 'haarcascade_frontalface_default.xml')"
   ]
  },
  {
   "cell_type": "code",
   "execution_count": 6,
   "id": "98765e9c-746a-4898-9fdd-1bcf9e7d1f4d",
   "metadata": {},
   "outputs": [],
   "source": [
    "cap = cv2.VideoCapture(0)\n",
    "\n",
    "while True:\n",
    "    ret, frame = cap.read()\n",
    "    if not ret:\n",
    "        break # Stop if the camera is not working\n",
    "\n",
    "    gray = cv2.cvtColor(frame, cv2.COLOR_BGR2GRAY)\n",
    "\n",
    "    faces = face_detector.detectMultiScale(gray, scaleFactor=1.3, minNeighbors=5, minSize=(30, 30))\n",
    "\n",
    "    for (x, y, w, h) in faces:\n",
    "        cv2.rectangle(frame, (x, y), (x + w, y + h), (0, 255, 0), 3)\n",
    "\n",
    "    cv2.imshow(\"Face Detection\", frame)\n",
    "    cv2.imshow('GRAY', gray)\n",
    "    if cv2.waitKey(1) & 0xFF == ord('q'):\n",
    "        break\n",
    "\n",
    "cap.release()\n",
    "cv2.destroyAllWindows()\n"
   ]
  },
  {
   "cell_type": "code",
   "execution_count": null,
   "id": "85db573d-9c61-4a2e-be7e-6ff58aed2de1",
   "metadata": {},
   "outputs": [],
   "source": []
  }
 ],
 "metadata": {
  "kernelspec": {
   "display_name": "Python 3 (ipykernel)",
   "language": "python",
   "name": "python3"
  },
  "language_info": {
   "codemirror_mode": {
    "name": "ipython",
    "version": 3
   },
   "file_extension": ".py",
   "mimetype": "text/x-python",
   "name": "python",
   "nbconvert_exporter": "python",
   "pygments_lexer": "ipython3",
   "version": "3.12.7"
  }
 },
 "nbformat": 4,
 "nbformat_minor": 5
}
