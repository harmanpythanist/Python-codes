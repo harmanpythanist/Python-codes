{
 "cells": [
  {
   "cell_type": "markdown",
   "id": "5c2a8f3d-39df-404f-a37e-54794a6cf226",
   "metadata": {},
   "source": [
    "## Built in functions"
   ]
  },
  {
   "cell_type": "code",
   "execution_count": 1,
   "id": "94b2061c-9afd-45c8-87a7-531b085bad54",
   "metadata": {},
   "outputs": [
    {
     "data": {
      "text/plain": [
       "[1, 2, 3, 4, 5, 6, 7, 8, 9, 10, 11, 12, 13, 14, 15, 16, 17, 18, 19]"
      ]
     },
     "execution_count": 1,
     "metadata": {},
     "output_type": "execute_result"
    }
   ],
   "source": [
    "list(range(1, 20))"
   ]
  },
  {
   "cell_type": "code",
   "execution_count": 2,
   "id": "f6be35ba-fba9-4f5d-8727-4df2a74aee7b",
   "metadata": {},
   "outputs": [],
   "source": [
    "#range()\n",
    "#print()\n",
    "#input()\n",
    "#len()\n",
    "#sum()"
   ]
  },
  {
   "cell_type": "markdown",
   "id": "a9e80495-27eb-4d39-8410-7304dc1913e7",
   "metadata": {},
   "source": [
    "## Custom functions"
   ]
  },
  {
   "cell_type": "code",
   "execution_count": 3,
   "id": "d08061a6-e199-4b74-84b4-a43253a1105a",
   "metadata": {},
   "outputs": [
    {
     "name": "stdin",
     "output_type": "stream",
     "text": [
      "Enter a number:  3\n"
     ]
    },
    {
     "name": "stdout",
     "output_type": "stream",
     "text": [
      "3 X 1 = 3\n",
      "3 X 2 = 6\n",
      "3 X 3 = 9\n",
      "3 X 4 = 12\n",
      "3 X 5 = 15\n",
      "3 X 6 = 18\n",
      "3 X 7 = 21\n",
      "3 X 8 = 24\n",
      "3 X 9 = 27\n",
      "3 X 10 = 30\n"
     ]
    }
   ],
   "source": [
    "num = int(input('Enter a number: '))\n",
    "for i in range(1, 11):\n",
    "    print(num, 'X', i, '=', num*i)"
   ]
  },
  {
   "cell_type": "code",
   "execution_count": 4,
   "id": "eb5964ea-c482-4da5-9c54-20e94a89da62",
   "metadata": {},
   "outputs": [],
   "source": [
    "def table():\n",
    "    num = int(input('Enter a number: '))\n",
    "    for i in range(1, 11):\n",
    "        print(num, 'X', i, '=', num*i)\n",
    "        "
   ]
  },
  {
   "cell_type": "code",
   "execution_count": 5,
   "id": "f24d7619-42f8-4e74-9aff-51114bb466c7",
   "metadata": {},
   "outputs": [
    {
     "name": "stdin",
     "output_type": "stream",
     "text": [
      "Enter a number:  11\n"
     ]
    },
    {
     "name": "stdout",
     "output_type": "stream",
     "text": [
      "11 X 1 = 11\n",
      "11 X 2 = 22\n",
      "11 X 3 = 33\n",
      "11 X 4 = 44\n",
      "11 X 5 = 55\n",
      "11 X 6 = 66\n",
      "11 X 7 = 77\n",
      "11 X 8 = 88\n",
      "11 X 9 = 99\n",
      "11 X 10 = 110\n"
     ]
    }
   ],
   "source": [
    "table()"
   ]
  },
  {
   "cell_type": "code",
   "execution_count": 6,
   "id": "3d04ca59-3f5d-4b37-b204-6991c90e54a2",
   "metadata": {},
   "outputs": [
    {
     "name": "stdin",
     "output_type": "stream",
     "text": [
      "Enter a number:  13\n"
     ]
    },
    {
     "name": "stdout",
     "output_type": "stream",
     "text": [
      "13 X 1 = 13\n",
      "13 X 2 = 26\n",
      "13 X 3 = 39\n",
      "13 X 4 = 52\n",
      "13 X 5 = 65\n",
      "13 X 6 = 78\n",
      "13 X 7 = 91\n",
      "13 X 8 = 104\n",
      "13 X 9 = 117\n",
      "13 X 10 = 130\n"
     ]
    }
   ],
   "source": [
    "table()"
   ]
  },
  {
   "cell_type": "code",
   "execution_count": 8,
   "id": "e957da81-3f45-4332-a54c-ed89ff4959b9",
   "metadata": {},
   "outputs": [
    {
     "name": "stdin",
     "output_type": "stream",
     "text": [
      "Enter a number:  15\n"
     ]
    },
    {
     "name": "stdout",
     "output_type": "stream",
     "text": [
      "15 X 1 = 15\n",
      "15 X 2 = 30\n",
      "15 X 3 = 45\n",
      "15 X 4 = 60\n",
      "15 X 5 = 75\n",
      "15 X 6 = 90\n",
      "15 X 7 = 105\n",
      "15 X 8 = 120\n",
      "15 X 9 = 135\n",
      "15 X 10 = 150\n"
     ]
    }
   ],
   "source": [
    "table()"
   ]
  },
  {
   "cell_type": "code",
   "execution_count": 10,
   "id": "cf921bfe-47f2-4926-bb13-eab4d038ca3c",
   "metadata": {},
   "outputs": [],
   "source": [
    "def table(num):    # -> Parameter\n",
    "    for i in range(1, 11):\n",
    "        print(num, 'X', i, '=', num*i)"
   ]
  },
  {
   "cell_type": "code",
   "execution_count": 11,
   "id": "eb44e804-d84c-400f-a655-f38623c04d9b",
   "metadata": {},
   "outputs": [
    {
     "name": "stdout",
     "output_type": "stream",
     "text": [
      "16 X 1 = 16\n",
      "16 X 2 = 32\n",
      "16 X 3 = 48\n",
      "16 X 4 = 64\n",
      "16 X 5 = 80\n",
      "16 X 6 = 96\n",
      "16 X 7 = 112\n",
      "16 X 8 = 128\n",
      "16 X 9 = 144\n",
      "16 X 10 = 160\n"
     ]
    }
   ],
   "source": [
    "table(16)   # -> Argument"
   ]
  },
  {
   "cell_type": "code",
   "execution_count": 12,
   "id": "43e76613-70c9-4ba1-9132-6f0ae09d755a",
   "metadata": {},
   "outputs": [
    {
     "name": "stdout",
     "output_type": "stream",
     "text": [
      "14 X 1 = 14\n",
      "14 X 2 = 28\n",
      "14 X 3 = 42\n",
      "14 X 4 = 56\n",
      "14 X 5 = 70\n",
      "14 X 6 = 84\n",
      "14 X 7 = 98\n",
      "14 X 8 = 112\n",
      "14 X 9 = 126\n",
      "14 X 10 = 140\n"
     ]
    }
   ],
   "source": [
    "table(14)"
   ]
  },
  {
   "cell_type": "code",
   "execution_count": 13,
   "id": "43ae7b8d-9a5e-4365-a3d6-3f91b01d9fe6",
   "metadata": {},
   "outputs": [
    {
     "name": "stdout",
     "output_type": "stream",
     "text": [
      "21 X 1 = 21\n",
      "21 X 2 = 42\n",
      "21 X 3 = 63\n",
      "21 X 4 = 84\n",
      "21 X 5 = 105\n",
      "21 X 6 = 126\n",
      "21 X 7 = 147\n",
      "21 X 8 = 168\n",
      "21 X 9 = 189\n",
      "21 X 10 = 210\n"
     ]
    }
   ],
   "source": [
    "table(21)"
   ]
  },
  {
   "cell_type": "code",
   "execution_count": 14,
   "id": "8815ce27-ae81-4039-accc-95a76cde26ca",
   "metadata": {},
   "outputs": [
    {
     "name": "stdout",
     "output_type": "stream",
     "text": [
      "25 X 1 = 25\n",
      "25 X 2 = 50\n",
      "25 X 3 = 75\n",
      "25 X 4 = 100\n",
      "25 X 5 = 125\n",
      "25 X 6 = 150\n",
      "25 X 7 = 175\n",
      "25 X 8 = 200\n",
      "25 X 9 = 225\n",
      "25 X 10 = 250\n"
     ]
    }
   ],
   "source": [
    "table(25)"
   ]
  },
  {
   "cell_type": "code",
   "execution_count": 15,
   "id": "6f20028b-b8d1-4941-bdeb-d9e9d426870e",
   "metadata": {},
   "outputs": [],
   "source": [
    "def calculator(num1, num2):\n",
    "    \n",
    "    print('SUM:', num1+num2)\n",
    "    print('Difference:', num1-num2)\n",
    "    print('PRODUCT:', num1*num2)"
   ]
  },
  {
   "cell_type": "code",
   "execution_count": 16,
   "id": "8de682f0-7e52-4a5a-992d-0cd66b32c367",
   "metadata": {},
   "outputs": [
    {
     "name": "stdout",
     "output_type": "stream",
     "text": [
      "SUM: 77\n",
      "Difference: -13\n",
      "PRODUCT: 1440\n"
     ]
    }
   ],
   "source": [
    "calculator(32, 45)"
   ]
  },
  {
   "cell_type": "code",
   "execution_count": 17,
   "id": "ff53e26e-a762-438f-9842-2400d42c7fe7",
   "metadata": {},
   "outputs": [
    {
     "ename": "TypeError",
     "evalue": "calculator() missing 1 required positional argument: 'num2'",
     "output_type": "error",
     "traceback": [
      "\u001b[1;31m---------------------------------------------------------------------------\u001b[0m",
      "\u001b[1;31mTypeError\u001b[0m                                 Traceback (most recent call last)",
      "Cell \u001b[1;32mIn[17], line 1\u001b[0m\n\u001b[1;32m----> 1\u001b[0m calculator(\u001b[38;5;241m3\u001b[39m)\n",
      "\u001b[1;31mTypeError\u001b[0m: calculator() missing 1 required positional argument: 'num2'"
     ]
    }
   ],
   "source": [
    "calculator(3)"
   ]
  },
  {
   "cell_type": "code",
   "execution_count": 20,
   "id": "bac8612e-ad62-4a98-8002-d1e0e0d99746",
   "metadata": {},
   "outputs": [
    {
     "name": "stdout",
     "output_type": "stream",
     "text": [
      "SUM: 77\n",
      "Difference: -9\n",
      "PRODUCT: 1462\n"
     ]
    }
   ],
   "source": [
    "calculator(num1=34, num2 =43)   # Keyboard arugment"
   ]
  },
  {
   "cell_type": "markdown",
   "id": "bf5c10d5-79c2-4247-96d2-85b571a76d0b",
   "metadata": {},
   "source": [
    "## Function to calculate average"
   ]
  },
  {
   "cell_type": "code",
   "execution_count": 21,
   "id": "f725bc87-7df7-4e47-b5ab-e4c4e5e04a04",
   "metadata": {},
   "outputs": [],
   "source": [
    "# MARKS OUT OF: 75\n",
    "\n",
    "# PARAMETER: obtained marks\n",
    "\n",
    "# print -> percentage"
   ]
  },
  {
   "cell_type": "code",
   "execution_count": 26,
   "id": "e3c0ff8b-baf2-4a68-9799-874abd06c75c",
   "metadata": {},
   "outputs": [],
   "source": [
    "def percentage(amount):\n",
    "    total = 75\n",
    "    percent = (amount / total) * 100\n",
    "    print(round(percent, 2), '%')"
   ]
  },
  {
   "cell_type": "code",
   "execution_count": 27,
   "id": "3d8f36ab-d21e-44f6-af0d-4fdfee9004df",
   "metadata": {},
   "outputs": [
    {
     "name": "stdout",
     "output_type": "stream",
     "text": [
      "57.33 %\n"
     ]
    }
   ],
   "source": [
    "percentage(43)"
   ]
  },
  {
   "cell_type": "code",
   "execution_count": 28,
   "id": "c4e2b52e-cadf-473a-954d-0721a2d1ee12",
   "metadata": {},
   "outputs": [
    {
     "name": "stdout",
     "output_type": "stream",
     "text": [
      "89.33 %\n"
     ]
    }
   ],
   "source": [
    "percentage(67)"
   ]
  },
  {
   "cell_type": "code",
   "execution_count": 29,
   "id": "cd864b7d-73bc-47c6-a616-699ffeb0e68b",
   "metadata": {},
   "outputs": [],
   "source": [
    "list_ = [] \n",
    "def schoolmenu(): \n",
    "    \n",
    "    while True: \n",
    "        \n",
    "        print('=============================Menu===========================') \n",
    "        print('1 - Addmission of student in school') \n",
    "        print('2 - Struck student from school') \n",
    "        print('3 - View all students of school') \n",
    "        print('4 - Quit from menu\\n') \n",
    "        \n",
    "        choice = input('Enter your choice: ') \n",
    "        if choice == '1': \n",
    "            \n",
    "            print('\\n-----Add student-----\\n') \n",
    "            name = input('Enter student name: ') \n",
    "            list_.append(name) \n",
    "            print('\\nStudent Added!\\n') \n",
    "            \n",
    "        elif choice == '2': \n",
    "            print('\\n-----Remove student-----\\n') \n",
    "            name = input('Enter name of student') \n",
    "            if name not in list_: \n",
    "                print('No student found') \n",
    "            else: \n",
    "                list_.remove(name) \n",
    "                 \n",
    "                print('\\nStudent removed!') \n",
    " \n",
    "        elif choice == '3': \n",
    "             \n",
    "            print('\\n----------Students in school---------') \n",
    "             \n",
    "            for i in list_: \n",
    "                print(i) \n",
    "                 \n",
    "        elif choice == '4': \n",
    "             \n",
    "            print('=================Good bye===============') \n",
    "            break"
   ]
  },
  {
   "cell_type": "code",
   "execution_count": 30,
   "id": "b151683f-3c2b-4b47-9c7b-e6e10b9b9ca8",
   "metadata": {
    "scrolled": true
   },
   "outputs": [
    {
     "name": "stdout",
     "output_type": "stream",
     "text": [
      "=============================Menu===========================\n",
      "1 - Addmission of student in school\n",
      "2 - Struck student from school\n",
      "3 - View all students of school\n",
      "4 - Quit from menu\n",
      "\n"
     ]
    },
    {
     "name": "stdin",
     "output_type": "stream",
     "text": [
      "Enter your choice:  1\n"
     ]
    },
    {
     "name": "stdout",
     "output_type": "stream",
     "text": [
      "\n",
      "-----Add student-----\n",
      "\n"
     ]
    },
    {
     "name": "stdin",
     "output_type": "stream",
     "text": [
      "Enter student name:  ali\n"
     ]
    },
    {
     "name": "stdout",
     "output_type": "stream",
     "text": [
      "\n",
      "Student Added!\n",
      "\n",
      "=============================Menu===========================\n",
      "1 - Addmission of student in school\n",
      "2 - Struck student from school\n",
      "3 - View all students of school\n",
      "4 - Quit from menu\n",
      "\n"
     ]
    },
    {
     "name": "stdin",
     "output_type": "stream",
     "text": [
      "Enter your choice:  1\n"
     ]
    },
    {
     "name": "stdout",
     "output_type": "stream",
     "text": [
      "\n",
      "-----Add student-----\n",
      "\n"
     ]
    },
    {
     "name": "stdin",
     "output_type": "stream",
     "text": [
      "Enter student name:  Hamza\n"
     ]
    },
    {
     "name": "stdout",
     "output_type": "stream",
     "text": [
      "\n",
      "Student Added!\n",
      "\n",
      "=============================Menu===========================\n",
      "1 - Addmission of student in school\n",
      "2 - Struck student from school\n",
      "3 - View all students of school\n",
      "4 - Quit from menu\n",
      "\n"
     ]
    },
    {
     "name": "stdin",
     "output_type": "stream",
     "text": [
      "Enter your choice:  1\n"
     ]
    },
    {
     "name": "stdout",
     "output_type": "stream",
     "text": [
      "\n",
      "-----Add student-----\n",
      "\n"
     ]
    },
    {
     "name": "stdin",
     "output_type": "stream",
     "text": [
      "Enter student name:  Ali\n"
     ]
    },
    {
     "name": "stdout",
     "output_type": "stream",
     "text": [
      "\n",
      "Student Added!\n",
      "\n",
      "=============================Menu===========================\n",
      "1 - Addmission of student in school\n",
      "2 - Struck student from school\n",
      "3 - View all students of school\n",
      "4 - Quit from menu\n",
      "\n"
     ]
    },
    {
     "name": "stdin",
     "output_type": "stream",
     "text": [
      "Enter your choice:  1\n"
     ]
    },
    {
     "name": "stdout",
     "output_type": "stream",
     "text": [
      "\n",
      "-----Add student-----\n",
      "\n"
     ]
    },
    {
     "name": "stdin",
     "output_type": "stream",
     "text": [
      "Enter student name:  Hufaiza\n"
     ]
    },
    {
     "name": "stdout",
     "output_type": "stream",
     "text": [
      "\n",
      "Student Added!\n",
      "\n",
      "=============================Menu===========================\n",
      "1 - Addmission of student in school\n",
      "2 - Struck student from school\n",
      "3 - View all students of school\n",
      "4 - Quit from menu\n",
      "\n"
     ]
    },
    {
     "name": "stdin",
     "output_type": "stream",
     "text": [
      "Enter your choice:  3\n"
     ]
    },
    {
     "name": "stdout",
     "output_type": "stream",
     "text": [
      "\n",
      "----------Students in school---------\n",
      "ali\n",
      "Hamza\n",
      "Ali\n",
      "Hufaiza\n",
      "=============================Menu===========================\n",
      "1 - Addmission of student in school\n",
      "2 - Struck student from school\n",
      "3 - View all students of school\n",
      "4 - Quit from menu\n",
      "\n"
     ]
    },
    {
     "name": "stdin",
     "output_type": "stream",
     "text": [
      "Enter your choice:  2\n"
     ]
    },
    {
     "name": "stdout",
     "output_type": "stream",
     "text": [
      "\n",
      "-----Remove student-----\n",
      "\n"
     ]
    },
    {
     "name": "stdin",
     "output_type": "stream",
     "text": [
      "Enter name of student ali\n"
     ]
    },
    {
     "name": "stdout",
     "output_type": "stream",
     "text": [
      "\n",
      "Student removed!\n",
      "=============================Menu===========================\n",
      "1 - Addmission of student in school\n",
      "2 - Struck student from school\n",
      "3 - View all students of school\n",
      "4 - Quit from menu\n",
      "\n"
     ]
    },
    {
     "name": "stdin",
     "output_type": "stream",
     "text": [
      "Enter your choice:  3\n"
     ]
    },
    {
     "name": "stdout",
     "output_type": "stream",
     "text": [
      "\n",
      "----------Students in school---------\n",
      "Hamza\n",
      "Ali\n",
      "Hufaiza\n",
      "=============================Menu===========================\n",
      "1 - Addmission of student in school\n",
      "2 - Struck student from school\n",
      "3 - View all students of school\n",
      "4 - Quit from menu\n",
      "\n"
     ]
    },
    {
     "name": "stdin",
     "output_type": "stream",
     "text": [
      "Enter your choice:  4\n"
     ]
    },
    {
     "name": "stdout",
     "output_type": "stream",
     "text": [
      "=================Good bye===============\n"
     ]
    }
   ],
   "source": [
    "schoolmenu()"
   ]
  },
  {
   "cell_type": "code",
   "execution_count": 32,
   "id": "0a65e5af-7a12-4bb6-af99-9f98f33c4907",
   "metadata": {},
   "outputs": [
    {
     "name": "stdout",
     "output_type": "stream",
     "text": [
      "Product of two numbers is:\n",
      "24\n"
     ]
    }
   ],
   "source": [
    "def product(a, b):\n",
    "    print('Product of two numbers is:')\n",
    "    print(a * b)\n",
    "\n",
    "def func(a, b):\n",
    "    product(a, b)\n",
    "\n",
    "func(4, 6)"
   ]
  },
  {
   "cell_type": "code",
   "execution_count": 40,
   "id": "4f7ea995-2c6c-429a-bf8a-2705be119f5a",
   "metadata": {},
   "outputs": [],
   "source": [
    "def func():\n",
    "    global ab\n",
    "    \n",
    "    ab = 10  # Global variable \n",
    "    ac = 20  # LOCAL VARIABLE\n",
    "    ad = 30  # LOCAL VARIABLE\n",
    "    print('Variables defined locally')\n",
    "    "
   ]
  },
  {
   "cell_type": "code",
   "execution_count": 41,
   "id": "b7fc72ee-aa19-4982-ad86-3c5bc2953202",
   "metadata": {},
   "outputs": [
    {
     "name": "stdout",
     "output_type": "stream",
     "text": [
      "Variables defined locally\n"
     ]
    }
   ],
   "source": [
    "func()"
   ]
  },
  {
   "cell_type": "code",
   "execution_count": 42,
   "id": "6b930700-053c-4161-b596-562d66d4aaa5",
   "metadata": {},
   "outputs": [
    {
     "data": {
      "text/plain": [
       "10"
      ]
     },
     "execution_count": 42,
     "metadata": {},
     "output_type": "execute_result"
    }
   ],
   "source": [
    "ab"
   ]
  },
  {
   "cell_type": "code",
   "execution_count": null,
   "id": "31e7aa88-a901-4ce3-a9c0-28e8a053d64b",
   "metadata": {},
   "outputs": [],
   "source": []
  }
 ],
 "metadata": {
  "kernelspec": {
   "display_name": "Python 3 (ipykernel)",
   "language": "python",
   "name": "python3"
  },
  "language_info": {
   "codemirror_mode": {
    "name": "ipython",
    "version": 3
   },
   "file_extension": ".py",
   "mimetype": "text/x-python",
   "name": "python",
   "nbconvert_exporter": "python",
   "pygments_lexer": "ipython3",
   "version": "3.12.7"
  }
 },
 "nbformat": 4,
 "nbformat_minor": 5
}
