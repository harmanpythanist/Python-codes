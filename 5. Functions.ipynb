{
 "cells": [
  {
   "cell_type": "markdown",
   "id": "5c2a8f3d-39df-404f-a37e-54794a6cf226",
   "metadata": {},
   "source": [
    "## Built in functions"
   ]
  },
  {
   "cell_type": "code",
   "execution_count": 1,
   "id": "94b2061c-9afd-45c8-87a7-531b085bad54",
   "metadata": {},
   "outputs": [
    {
     "data": {
      "text/plain": [
       "[1, 2, 3, 4, 5, 6, 7, 8, 9, 10, 11, 12, 13, 14, 15, 16, 17, 18, 19]"
      ]
     },
     "execution_count": 1,
     "metadata": {},
     "output_type": "execute_result"
    }
   ],
   "source": [
    "list(range(1, 20))"
   ]
  },
  {
   "cell_type": "code",
   "execution_count": 2,
   "id": "f6be35ba-fba9-4f5d-8727-4df2a74aee7b",
   "metadata": {},
   "outputs": [],
   "source": [
    "#range()\n",
    "#print()\n",
    "#input()\n",
    "#len()\n",
    "#sum()"
   ]
  },
  {
   "cell_type": "markdown",
   "id": "a9e80495-27eb-4d39-8410-7304dc1913e7",
   "metadata": {},
   "source": [
    "## Custom functions"
   ]
  },
  {
   "cell_type": "code",
   "execution_count": 3,
   "id": "d08061a6-e199-4b74-84b4-a43253a1105a",
   "metadata": {},
   "outputs": [
    {
     "name": "stdin",
     "output_type": "stream",
     "text": [
      "Enter a number:  3\n"
     ]
    },
    {
     "name": "stdout",
     "output_type": "stream",
     "text": [
      "3 X 1 = 3\n",
      "3 X 2 = 6\n",
      "3 X 3 = 9\n",
      "3 X 4 = 12\n",
      "3 X 5 = 15\n",
      "3 X 6 = 18\n",
      "3 X 7 = 21\n",
      "3 X 8 = 24\n",
      "3 X 9 = 27\n",
      "3 X 10 = 30\n"
     ]
    }
   ],
   "source": [
    "num = int(input('Enter a number: '))\n",
    "for i in range(1, 11):\n",
    "    print(num, 'X', i, '=', num*i)"
   ]
  },
  {
   "cell_type": "code",
   "execution_count": 4,
   "id": "eb5964ea-c482-4da5-9c54-20e94a89da62",
   "metadata": {},
   "outputs": [],
   "source": [
    "def table():\n",
    "    num = int(input('Enter a number: '))\n",
    "    for i in range(1, 11):\n",
    "        print(num, 'X', i, '=', num*i)\n",
    "        "
   ]
  },
  {
   "cell_type": "code",
   "execution_count": 5,
   "id": "f24d7619-42f8-4e74-9aff-51114bb466c7",
   "metadata": {},
   "outputs": [
    {
     "name": "stdin",
     "output_type": "stream",
     "text": [
      "Enter a number:  11\n"
     ]
    },
    {
     "name": "stdout",
     "output_type": "stream",
     "text": [
      "11 X 1 = 11\n",
      "11 X 2 = 22\n",
      "11 X 3 = 33\n",
      "11 X 4 = 44\n",
      "11 X 5 = 55\n",
      "11 X 6 = 66\n",
      "11 X 7 = 77\n",
      "11 X 8 = 88\n",
      "11 X 9 = 99\n",
      "11 X 10 = 110\n"
     ]
    }
   ],
   "source": [
    "table()"
   ]
  },
  {
   "cell_type": "code",
   "execution_count": 6,
   "id": "3d04ca59-3f5d-4b37-b204-6991c90e54a2",
   "metadata": {},
   "outputs": [
    {
     "name": "stdin",
     "output_type": "stream",
     "text": [
      "Enter a number:  13\n"
     ]
    },
    {
     "name": "stdout",
     "output_type": "stream",
     "text": [
      "13 X 1 = 13\n",
      "13 X 2 = 26\n",
      "13 X 3 = 39\n",
      "13 X 4 = 52\n",
      "13 X 5 = 65\n",
      "13 X 6 = 78\n",
      "13 X 7 = 91\n",
      "13 X 8 = 104\n",
      "13 X 9 = 117\n",
      "13 X 10 = 130\n"
     ]
    }
   ],
   "source": [
    "table()"
   ]
  },
  {
   "cell_type": "code",
   "execution_count": 8,
   "id": "e957da81-3f45-4332-a54c-ed89ff4959b9",
   "metadata": {},
   "outputs": [
    {
     "name": "stdin",
     "output_type": "stream",
     "text": [
      "Enter a number:  15\n"
     ]
    },
    {
     "name": "stdout",
     "output_type": "stream",
     "text": [
      "15 X 1 = 15\n",
      "15 X 2 = 30\n",
      "15 X 3 = 45\n",
      "15 X 4 = 60\n",
      "15 X 5 = 75\n",
      "15 X 6 = 90\n",
      "15 X 7 = 105\n",
      "15 X 8 = 120\n",
      "15 X 9 = 135\n",
      "15 X 10 = 150\n"
     ]
    }
   ],
   "source": [
    "table()"
   ]
  },
  {
   "cell_type": "code",
   "execution_count": 10,
   "id": "cf921bfe-47f2-4926-bb13-eab4d038ca3c",
   "metadata": {},
   "outputs": [],
   "source": [
    "def table(num):    # -> Parameter\n",
    "    for i in range(1, 11):\n",
    "        print(num, 'X', i, '=', num*i)"
   ]
  },
  {
   "cell_type": "code",
   "execution_count": 11,
   "id": "eb44e804-d84c-400f-a655-f38623c04d9b",
   "metadata": {},
   "outputs": [
    {
     "name": "stdout",
     "output_type": "stream",
     "text": [
      "16 X 1 = 16\n",
      "16 X 2 = 32\n",
      "16 X 3 = 48\n",
      "16 X 4 = 64\n",
      "16 X 5 = 80\n",
      "16 X 6 = 96\n",
      "16 X 7 = 112\n",
      "16 X 8 = 128\n",
      "16 X 9 = 144\n",
      "16 X 10 = 160\n"
     ]
    }
   ],
   "source": [
    "table(16)   # -> Argument"
   ]
  },
  {
   "cell_type": "code",
   "execution_count": 12,
   "id": "43e76613-70c9-4ba1-9132-6f0ae09d755a",
   "metadata": {},
   "outputs": [
    {
     "name": "stdout",
     "output_type": "stream",
     "text": [
      "14 X 1 = 14\n",
      "14 X 2 = 28\n",
      "14 X 3 = 42\n",
      "14 X 4 = 56\n",
      "14 X 5 = 70\n",
      "14 X 6 = 84\n",
      "14 X 7 = 98\n",
      "14 X 8 = 112\n",
      "14 X 9 = 126\n",
      "14 X 10 = 140\n"
     ]
    }
   ],
   "source": [
    "table(14)"
   ]
  },
  {
   "cell_type": "code",
   "execution_count": 13,
   "id": "43ae7b8d-9a5e-4365-a3d6-3f91b01d9fe6",
   "metadata": {},
   "outputs": [
    {
     "name": "stdout",
     "output_type": "stream",
     "text": [
      "21 X 1 = 21\n",
      "21 X 2 = 42\n",
      "21 X 3 = 63\n",
      "21 X 4 = 84\n",
      "21 X 5 = 105\n",
      "21 X 6 = 126\n",
      "21 X 7 = 147\n",
      "21 X 8 = 168\n",
      "21 X 9 = 189\n",
      "21 X 10 = 210\n"
     ]
    }
   ],
   "source": [
    "table(21)"
   ]
  },
  {
   "cell_type": "code",
   "execution_count": 14,
   "id": "8815ce27-ae81-4039-accc-95a76cde26ca",
   "metadata": {},
   "outputs": [
    {
     "name": "stdout",
     "output_type": "stream",
     "text": [
      "25 X 1 = 25\n",
      "25 X 2 = 50\n",
      "25 X 3 = 75\n",
      "25 X 4 = 100\n",
      "25 X 5 = 125\n",
      "25 X 6 = 150\n",
      "25 X 7 = 175\n",
      "25 X 8 = 200\n",
      "25 X 9 = 225\n",
      "25 X 10 = 250\n"
     ]
    }
   ],
   "source": [
    "table(25)"
   ]
  },
  {
   "cell_type": "code",
   "execution_count": 15,
   "id": "6f20028b-b8d1-4941-bdeb-d9e9d426870e",
   "metadata": {},
   "outputs": [],
   "source": [
    "def calculator(num1, num2):\n",
    "    \n",
    "    print('SUM:', num1+num2)\n",
    "    print('Difference:', num1-num2)\n",
    "    print('PRODUCT:', num1*num2)"
   ]
  },
  {
   "cell_type": "code",
   "execution_count": 16,
   "id": "8de682f0-7e52-4a5a-992d-0cd66b32c367",
   "metadata": {},
   "outputs": [
    {
     "name": "stdout",
     "output_type": "stream",
     "text": [
      "SUM: 77\n",
      "Difference: -13\n",
      "PRODUCT: 1440\n"
     ]
    }
   ],
   "source": [
    "calculator(32, 45)"
   ]
  },
  {
   "cell_type": "code",
   "execution_count": 17,
   "id": "ff53e26e-a762-438f-9842-2400d42c7fe7",
   "metadata": {},
   "outputs": [
    {
     "ename": "TypeError",
     "evalue": "calculator() missing 1 required positional argument: 'num2'",
     "output_type": "error",
     "traceback": [
      "\u001b[1;31m---------------------------------------------------------------------------\u001b[0m",
      "\u001b[1;31mTypeError\u001b[0m                                 Traceback (most recent call last)",
      "Cell \u001b[1;32mIn[17], line 1\u001b[0m\n\u001b[1;32m----> 1\u001b[0m calculator(\u001b[38;5;241m3\u001b[39m)\n",
      "\u001b[1;31mTypeError\u001b[0m: calculator() missing 1 required positional argument: 'num2'"
     ]
    }
   ],
   "source": [
    "calculator(3)"
   ]
  },
  {
   "cell_type": "code",
   "execution_count": 20,
   "id": "bac8612e-ad62-4a98-8002-d1e0e0d99746",
   "metadata": {},
   "outputs": [
    {
     "name": "stdout",
     "output_type": "stream",
     "text": [
      "SUM: 77\n",
      "Difference: -9\n",
      "PRODUCT: 1462\n"
     ]
    }
   ],
   "source": [
    "calculator(num1=34, num2 =43)   # Keyboard arugment"
   ]
  },
  {
   "cell_type": "markdown",
   "id": "bf5c10d5-79c2-4247-96d2-85b571a76d0b",
   "metadata": {},
   "source": [
    "## Function to calculate average"
   ]
  },
  {
   "cell_type": "code",
   "execution_count": 21,
   "id": "f725bc87-7df7-4e47-b5ab-e4c4e5e04a04",
   "metadata": {},
   "outputs": [],
   "source": [
    "# MARKS OUT OF: 75\n",
    "\n",
    "# PARAMETER: obtained marks\n",
    "\n",
    "# print -> percentage"
   ]
  },
  {
   "cell_type": "code",
   "execution_count": 26,
   "id": "e3c0ff8b-baf2-4a68-9799-874abd06c75c",
   "metadata": {},
   "outputs": [],
   "source": [
    "def percentage(amount):\n",
    "    total = 75\n",
    "    percent = (amount / total) * 100\n",
    "    print(round(percent, 2), '%')"
   ]
  },
  {
   "cell_type": "code",
   "execution_count": 27,
   "id": "3d8f36ab-d21e-44f6-af0d-4fdfee9004df",
   "metadata": {},
   "outputs": [
    {
     "name": "stdout",
     "output_type": "stream",
     "text": [
      "57.33 %\n"
     ]
    }
   ],
   "source": [
    "percentage(43)"
   ]
  },
  {
   "cell_type": "code",
   "execution_count": 28,
   "id": "c4e2b52e-cadf-473a-954d-0721a2d1ee12",
   "metadata": {},
   "outputs": [
    {
     "name": "stdout",
     "output_type": "stream",
     "text": [
      "89.33 %\n"
     ]
    }
   ],
   "source": [
    "percentage(67)"
   ]
  },
  {
   "cell_type": "code",
   "execution_count": 29,
   "id": "cd864b7d-73bc-47c6-a616-699ffeb0e68b",
   "metadata": {},
   "outputs": [],
   "source": [
    "list_ = [] \n",
    "def schoolmenu(): \n",
    "    \n",
    "    while True: \n",
    "        \n",
    "        print('=============================Menu===========================') \n",
    "        print('1 - Addmission of student in school') \n",
    "        print('2 - Struck student from school') \n",
    "        print('3 - View all students of school') \n",
    "        print('4 - Quit from menu\\n') \n",
    "        \n",
    "        choice = input('Enter your choice: ') \n",
    "        if choice == '1': \n",
    "            \n",
    "            print('\\n-----Add student-----\\n') \n",
    "            name = input('Enter student name: ') \n",
    "            list_.append(name) \n",
    "            print('\\nStudent Added!\\n') \n",
    "            \n",
    "        elif choice == '2': \n",
    "            print('\\n-----Remove student-----\\n') \n",
    "            name = input('Enter name of student') \n",
    "            if name not in list_: \n",
    "                print('No student found') \n",
    "            else: \n",
    "                list_.remove(name) \n",
    "                 \n",
    "                print('\\nStudent removed!') \n",
    " \n",
    "        elif choice == '3': \n",
    "             \n",
    "            print('\\n----------Students in school---------') \n",
    "             \n",
    "            for i in list_: \n",
    "                print(i) \n",
    "                 \n",
    "        elif choice == '4': \n",
    "             \n",
    "            print('=================Good bye===============') \n",
    "            break"
   ]
  },
  {
   "cell_type": "code",
   "execution_count": 30,
   "id": "b151683f-3c2b-4b47-9c7b-e6e10b9b9ca8",
   "metadata": {
    "scrolled": true
   },
   "outputs": [
    {
     "name": "stdout",
     "output_type": "stream",
     "text": [
      "=============================Menu===========================\n",
      "1 - Addmission of student in school\n",
      "2 - Struck student from school\n",
      "3 - View all students of school\n",
      "4 - Quit from menu\n",
      "\n"
     ]
    },
    {
     "name": "stdin",
     "output_type": "stream",
     "text": [
      "Enter your choice:  1\n"
     ]
    },
    {
     "name": "stdout",
     "output_type": "stream",
     "text": [
      "\n",
      "-----Add student-----\n",
      "\n"
     ]
    },
    {
     "name": "stdin",
     "output_type": "stream",
     "text": [
      "Enter student name:  ali\n"
     ]
    },
    {
     "name": "stdout",
     "output_type": "stream",
     "text": [
      "\n",
      "Student Added!\n",
      "\n",
      "=============================Menu===========================\n",
      "1 - Addmission of student in school\n",
      "2 - Struck student from school\n",
      "3 - View all students of school\n",
      "4 - Quit from menu\n",
      "\n"
     ]
    },
    {
     "name": "stdin",
     "output_type": "stream",
     "text": [
      "Enter your choice:  1\n"
     ]
    },
    {
     "name": "stdout",
     "output_type": "stream",
     "text": [
      "\n",
      "-----Add student-----\n",
      "\n"
     ]
    },
    {
     "name": "stdin",
     "output_type": "stream",
     "text": [
      "Enter student name:  Hamza\n"
     ]
    },
    {
     "name": "stdout",
     "output_type": "stream",
     "text": [
      "\n",
      "Student Added!\n",
      "\n",
      "=============================Menu===========================\n",
      "1 - Addmission of student in school\n",
      "2 - Struck student from school\n",
      "3 - View all students of school\n",
      "4 - Quit from menu\n",
      "\n"
     ]
    },
    {
     "name": "stdin",
     "output_type": "stream",
     "text": [
      "Enter your choice:  1\n"
     ]
    },
    {
     "name": "stdout",
     "output_type": "stream",
     "text": [
      "\n",
      "-----Add student-----\n",
      "\n"
     ]
    },
    {
     "name": "stdin",
     "output_type": "stream",
     "text": [
      "Enter student name:  Ali\n"
     ]
    },
    {
     "name": "stdout",
     "output_type": "stream",
     "text": [
      "\n",
      "Student Added!\n",
      "\n",
      "=============================Menu===========================\n",
      "1 - Addmission of student in school\n",
      "2 - Struck student from school\n",
      "3 - View all students of school\n",
      "4 - Quit from menu\n",
      "\n"
     ]
    },
    {
     "name": "stdin",
     "output_type": "stream",
     "text": [
      "Enter your choice:  1\n"
     ]
    },
    {
     "name": "stdout",
     "output_type": "stream",
     "text": [
      "\n",
      "-----Add student-----\n",
      "\n"
     ]
    },
    {
     "name": "stdin",
     "output_type": "stream",
     "text": [
      "Enter student name:  Hufaiza\n"
     ]
    },
    {
     "name": "stdout",
     "output_type": "stream",
     "text": [
      "\n",
      "Student Added!\n",
      "\n",
      "=============================Menu===========================\n",
      "1 - Addmission of student in school\n",
      "2 - Struck student from school\n",
      "3 - View all students of school\n",
      "4 - Quit from menu\n",
      "\n"
     ]
    },
    {
     "name": "stdin",
     "output_type": "stream",
     "text": [
      "Enter your choice:  3\n"
     ]
    },
    {
     "name": "stdout",
     "output_type": "stream",
     "text": [
      "\n",
      "----------Students in school---------\n",
      "ali\n",
      "Hamza\n",
      "Ali\n",
      "Hufaiza\n",
      "=============================Menu===========================\n",
      "1 - Addmission of student in school\n",
      "2 - Struck student from school\n",
      "3 - View all students of school\n",
      "4 - Quit from menu\n",
      "\n"
     ]
    },
    {
     "name": "stdin",
     "output_type": "stream",
     "text": [
      "Enter your choice:  2\n"
     ]
    },
    {
     "name": "stdout",
     "output_type": "stream",
     "text": [
      "\n",
      "-----Remove student-----\n",
      "\n"
     ]
    },
    {
     "name": "stdin",
     "output_type": "stream",
     "text": [
      "Enter name of student ali\n"
     ]
    },
    {
     "name": "stdout",
     "output_type": "stream",
     "text": [
      "\n",
      "Student removed!\n",
      "=============================Menu===========================\n",
      "1 - Addmission of student in school\n",
      "2 - Struck student from school\n",
      "3 - View all students of school\n",
      "4 - Quit from menu\n",
      "\n"
     ]
    },
    {
     "name": "stdin",
     "output_type": "stream",
     "text": [
      "Enter your choice:  3\n"
     ]
    },
    {
     "name": "stdout",
     "output_type": "stream",
     "text": [
      "\n",
      "----------Students in school---------\n",
      "Hamza\n",
      "Ali\n",
      "Hufaiza\n",
      "=============================Menu===========================\n",
      "1 - Addmission of student in school\n",
      "2 - Struck student from school\n",
      "3 - View all students of school\n",
      "4 - Quit from menu\n",
      "\n"
     ]
    },
    {
     "name": "stdin",
     "output_type": "stream",
     "text": [
      "Enter your choice:  4\n"
     ]
    },
    {
     "name": "stdout",
     "output_type": "stream",
     "text": [
      "=================Good bye===============\n"
     ]
    }
   ],
   "source": [
    "schoolmenu()"
   ]
  },
  {
   "cell_type": "code",
   "execution_count": 32,
   "id": "0a65e5af-7a12-4bb6-af99-9f98f33c4907",
   "metadata": {},
   "outputs": [
    {
     "name": "stdout",
     "output_type": "stream",
     "text": [
      "Product of two numbers is:\n",
      "24\n"
     ]
    }
   ],
   "source": [
    "def product(a, b):\n",
    "    print('Product of two numbers is:')\n",
    "    print(a * b)\n",
    "\n",
    "def func(a, b):\n",
    "    product(a, b)\n",
    "\n",
    "func(4, 6)"
   ]
  },
  {
   "cell_type": "code",
   "execution_count": 40,
   "id": "4f7ea995-2c6c-429a-bf8a-2705be119f5a",
   "metadata": {},
   "outputs": [],
   "source": [
    "def func():\n",
    "    global ab\n",
    "    \n",
    "    ab = 10  # Global variable \n",
    "    ac = 20  # LOCAL VARIABLE\n",
    "    ad = 30  # LOCAL VARIABLE\n",
    "    print('Variables defined locally')\n",
    "    "
   ]
  },
  {
   "cell_type": "code",
   "execution_count": 41,
   "id": "b7fc72ee-aa19-4982-ad86-3c5bc2953202",
   "metadata": {},
   "outputs": [
    {
     "name": "stdout",
     "output_type": "stream",
     "text": [
      "Variables defined locally\n"
     ]
    }
   ],
   "source": [
    "func()"
   ]
  },
  {
   "cell_type": "code",
   "execution_count": 42,
   "id": "6b930700-053c-4161-b596-562d66d4aaa5",
   "metadata": {},
   "outputs": [
    {
     "data": {
      "text/plain": [
       "10"
      ]
     },
     "execution_count": 42,
     "metadata": {},
     "output_type": "execute_result"
    }
   ],
   "source": [
    "ab"
   ]
  },
  {
   "cell_type": "markdown",
   "id": "5ee67656-46db-4ba9-b6b7-abf5c908425a",
   "metadata": {},
   "source": [
    "# 11, 7, 2025"
   ]
  },
  {
   "cell_type": "code",
   "execution_count": 1,
   "id": "2e9bb8fd-6f46-4f27-b4bd-d4b228f9fdbc",
   "metadata": {},
   "outputs": [],
   "source": [
    "def percentage(amount):\n",
    "    total = 75\n",
    "    percent = (amount / total) * 100\n",
    "    print(round(percent, 2), '%')"
   ]
  },
  {
   "cell_type": "code",
   "execution_count": 7,
   "id": "f50789a2-b3dc-418d-9b59-22fd05ab667d",
   "metadata": {},
   "outputs": [
    {
     "name": "stdout",
     "output_type": "stream",
     "text": [
      "74.67 %\n"
     ]
    }
   ],
   "source": [
    "a = percentage(56)   # -> a stores returned value"
   ]
  },
  {
   "cell_type": "code",
   "execution_count": 8,
   "id": "3c90271d-9ac5-4fcf-b742-b21efb254c75",
   "metadata": {},
   "outputs": [
    {
     "name": "stdout",
     "output_type": "stream",
     "text": [
      "None\n"
     ]
    }
   ],
   "source": [
    "print(a)"
   ]
  },
  {
   "cell_type": "code",
   "execution_count": 18,
   "id": "316aae7b-d9a8-4dd2-a5d1-e434b28000ff",
   "metadata": {},
   "outputs": [],
   "source": [
    "def average(lst):\n",
    "    average = sum(lst) / len(lst)\n",
    "    print(average)\n",
    "    return average\n",
    "    "
   ]
  },
  {
   "cell_type": "code",
   "execution_count": 19,
   "id": "a59262a7-4c88-4c12-b019-4ec5da601965",
   "metadata": {},
   "outputs": [
    {
     "name": "stdout",
     "output_type": "stream",
     "text": [
      "3.0\n"
     ]
    }
   ],
   "source": [
    "av = average([1,2,3,4,5])"
   ]
  },
  {
   "cell_type": "code",
   "execution_count": 20,
   "id": "5491c890-f7d4-4744-99c7-f895bdae2906",
   "metadata": {},
   "outputs": [
    {
     "data": {
      "text/plain": [
       "3.0"
      ]
     },
     "execution_count": 20,
     "metadata": {},
     "output_type": "execute_result"
    }
   ],
   "source": [
    "av"
   ]
  },
  {
   "cell_type": "code",
   "execution_count": 21,
   "id": "571daa49-e36b-4a7b-9e31-9a177f7fc601",
   "metadata": {},
   "outputs": [],
   "source": [
    "def check(num):\n",
    "    if num % 2 == 0:\n",
    "        return 'even'\n",
    "    else:\n",
    "        return 'odd'"
   ]
  },
  {
   "cell_type": "code",
   "execution_count": 27,
   "id": "8dd28a8a-fa44-4654-8993-9d9e124e2deb",
   "metadata": {},
   "outputs": [],
   "source": [
    "a = check(0)"
   ]
  },
  {
   "cell_type": "code",
   "execution_count": 28,
   "id": "726d666e-82f5-49cb-90f6-a473b86250a9",
   "metadata": {},
   "outputs": [
    {
     "name": "stdout",
     "output_type": "stream",
     "text": [
      "even\n"
     ]
    }
   ],
   "source": [
    "print(a)"
   ]
  },
  {
   "cell_type": "code",
   "execution_count": 29,
   "id": "eda82ac7-0d8a-4b27-b9eb-1533e3017f1b",
   "metadata": {},
   "outputs": [],
   "source": [
    "#34   -> 1 or 34 \n",
    "\n",
    "#2,  34 % 2 -> remainder\n",
    "#3,  34 % 3 -> remainder\n",
    "#4,   .\n",
    "#5,   .\n",
    "#.\n",
    "#.\n",
    "#33   ."
   ]
  },
  {
   "cell_type": "code",
   "execution_count": 30,
   "id": "50bdbea4-511f-48cb-84a4-53c88427cb0c",
   "metadata": {},
   "outputs": [],
   "source": [
    "# [2,3,5,6,8,9,2] -> PRIME NUMBER\n",
    "# [2,3,0,4,5,6,7] -> NOT PRIME NUMBERS "
   ]
  },
  {
   "cell_type": "code",
   "execution_count": 40,
   "id": "f185eedc-599f-47a3-ac68-8395cad42a2a",
   "metadata": {},
   "outputs": [],
   "source": [
    "def check_prime(num):\n",
    "    remainders = []\n",
    "    for i in range(2, num):\n",
    "        remainder = num % i\n",
    "        remainders.append(remainder)\n",
    "    \n",
    "    \n",
    "    if 0 in remainders:\n",
    "        print(num, ' is Not Prime')\n",
    "    else:\n",
    "        print(num, ' is Prime')"
   ]
  },
  {
   "cell_type": "code",
   "execution_count": 42,
   "id": "1b4e917c-23f4-4e3c-ad0d-97cac81c3bd1",
   "metadata": {},
   "outputs": [
    {
     "name": "stdout",
     "output_type": "stream",
     "text": [
      "2  is Prime\n",
      "3  is Prime\n",
      "4  is Not Prime\n",
      "5  is Prime\n",
      "6  is Not Prime\n",
      "7  is Prime\n",
      "8  is Not Prime\n",
      "9  is Not Prime\n",
      "10  is Not Prime\n",
      "11  is Prime\n",
      "12  is Not Prime\n",
      "13  is Prime\n",
      "14  is Not Prime\n",
      "15  is Not Prime\n",
      "16  is Not Prime\n",
      "17  is Prime\n",
      "18  is Not Prime\n",
      "19  is Prime\n",
      "20  is Not Prime\n",
      "21  is Not Prime\n",
      "22  is Not Prime\n",
      "23  is Prime\n",
      "24  is Not Prime\n",
      "25  is Not Prime\n",
      "26  is Not Prime\n",
      "27  is Not Prime\n",
      "28  is Not Prime\n",
      "29  is Prime\n",
      "30  is Not Prime\n",
      "31  is Prime\n",
      "32  is Not Prime\n",
      "33  is Not Prime\n",
      "34  is Not Prime\n",
      "35  is Not Prime\n",
      "36  is Not Prime\n",
      "37  is Prime\n",
      "38  is Not Prime\n",
      "39  is Not Prime\n",
      "40  is Not Prime\n",
      "41  is Prime\n",
      "42  is Not Prime\n",
      "43  is Prime\n",
      "44  is Not Prime\n",
      "45  is Not Prime\n",
      "46  is Not Prime\n",
      "47  is Prime\n",
      "48  is Not Prime\n",
      "49  is Not Prime\n",
      "50  is Not Prime\n",
      "51  is Not Prime\n",
      "52  is Not Prime\n",
      "53  is Prime\n",
      "54  is Not Prime\n",
      "55  is Not Prime\n"
     ]
    }
   ],
   "source": [
    "#34 - 55\n",
    "for i in range(2, 56):\n",
    "    check_prime(i)"
   ]
  },
  {
   "cell_type": "code",
   "execution_count": 43,
   "id": "010c16bb-d217-46ab-b054-42eac4406365",
   "metadata": {},
   "outputs": [],
   "source": [
    "a = [3,3,4,4,4,5,6,6,6,7,8,8,9,10,10]"
   ]
  },
  {
   "cell_type": "code",
   "execution_count": 46,
   "id": "460cbbde-4646-45df-b3f5-3d71501c90ff",
   "metadata": {},
   "outputs": [],
   "source": [
    "def remove_dup(lst):\n",
    "    refined_list = []\n",
    "    \n",
    "    for i in lst:\n",
    "        if i not in refined_list:\n",
    "            refined_list.append(i)\n",
    "        else:\n",
    "            continue\n",
    "\n",
    "    return refined_list\n",
    "        "
   ]
  },
  {
   "cell_type": "code",
   "execution_count": 47,
   "id": "f0ee9ffd-b015-4416-a7ec-65083c3b82f4",
   "metadata": {},
   "outputs": [
    {
     "data": {
      "text/plain": [
       "[3, 4, 5, 6, 7, 8, 9, 10]"
      ]
     },
     "execution_count": 47,
     "metadata": {},
     "output_type": "execute_result"
    }
   ],
   "source": [
    "remove_dup(a)"
   ]
  },
  {
   "cell_type": "code",
   "execution_count": 48,
   "id": "64cea8eb-f0f4-4fe6-8a30-8b4360675e36",
   "metadata": {},
   "outputs": [],
   "source": [
    "def form():\n",
    "    name = input('Enter your name:')\n",
    "    age = input('Enter your age:')\n",
    "    address = input('Enter your address:')\n",
    "    hobby = input('Enter your hobby:')\n",
    "    profession  = input('Enter your profession:')\n",
    "    sports = input('Enter your sports:')\n",
    "\n",
    "    return (name, age, address, hobby, profession, sports)"
   ]
  },
  {
   "cell_type": "code",
   "execution_count": 51,
   "id": "8bf58724-4537-4ea9-9cb0-2a595abd31d0",
   "metadata": {},
   "outputs": [
    {
     "name": "stdout",
     "output_type": "stream",
     "text": [
      "1 - Do you want to register new user?\n",
      "2 - Exit\n"
     ]
    },
    {
     "name": "stdin",
     "output_type": "stream",
     "text": [
      "Enter your choice:  1\n",
      "Enter your name: Ahmad\n",
      "Enter your age: 23\n",
      "Enter your address: Lahore, Johar town\n",
      "Enter your hobby: Gardening\n",
      "Enter your profession: Agriculture\n",
      "Enter your sports: \n"
     ]
    },
    {
     "name": "stdout",
     "output_type": "stream",
     "text": [
      "\n",
      "\n",
      "\n",
      "\n",
      "1 - Do you want to register new user?\n",
      "2 - Exit\n"
     ]
    },
    {
     "name": "stdin",
     "output_type": "stream",
     "text": [
      "Enter your choice:  1\n",
      "Enter your name: Bilal\n",
      "Enter your age: 45\n",
      "Enter your address: Lahore\n",
      "Enter your hobby: reading\n",
      "Enter your profession: IT\n",
      "Enter your sports: Cricket\n"
     ]
    },
    {
     "name": "stdout",
     "output_type": "stream",
     "text": [
      "\n",
      "\n",
      "\n",
      "\n",
      "1 - Do you want to register new user?\n",
      "2 - Exit\n"
     ]
    },
    {
     "name": "stdin",
     "output_type": "stream",
     "text": [
      "Enter your choice:  2\n"
     ]
    },
    {
     "name": "stdout",
     "output_type": "stream",
     "text": [
      "Good bye\n"
     ]
    }
   ],
   "source": [
    "all_users = []\n",
    "\n",
    "while True:\n",
    "    print('1 - Do you want to register new user?')\n",
    "    print('2 - Exit')\n",
    "    \n",
    "    choice = input('Enter your choice: ')\n",
    "    \n",
    "    if choice == '1':\n",
    "        new_user = form()\n",
    "        all_users.append(new_user)\n",
    "        print('\\n\\n\\n')\n",
    "        \n",
    "    elif choice == '2':\n",
    "        print('Good bye')\n",
    "        break"
   ]
  },
  {
   "cell_type": "code",
   "execution_count": 52,
   "id": "40880ed4-1f3c-4ba1-aae7-1cc0ac5b58c5",
   "metadata": {},
   "outputs": [
    {
     "data": {
      "text/plain": [
       "[('Ahmad', '23', 'Lahore, Johar town', 'Gardening', 'Agriculture', ''),\n",
       " ('Bilal', '45', 'Lahore', 'reading', 'IT', 'Cricket')]"
      ]
     },
     "execution_count": 52,
     "metadata": {},
     "output_type": "execute_result"
    }
   ],
   "source": [
    "all_users"
   ]
  },
  {
   "cell_type": "code",
   "execution_count": 57,
   "id": "3c174cf4-effb-48f8-8b22-fa8b71fa1817",
   "metadata": {},
   "outputs": [
    {
     "name": "stdout",
     "output_type": "stream",
     "text": [
      "==========\n",
      "Ahmad\n",
      "23\n",
      "Lahore, Johar town\n",
      "Gardening\n",
      "Agriculture\n",
      "\n",
      "==========\n",
      "Bilal\n",
      "45\n",
      "Lahore\n",
      "reading\n",
      "IT\n",
      "Cricket\n"
     ]
    }
   ],
   "source": [
    "for i in all_users:\n",
    "    print('==========')\n",
    "    for j in i:\n",
    "        print(j)"
   ]
  },
  {
   "cell_type": "code",
   "execution_count": null,
   "id": "b8673155-386e-4bb1-8940-1c6076afaf5c",
   "metadata": {},
   "outputs": [],
   "source": []
  }
 ],
 "metadata": {
  "kernelspec": {
   "display_name": "Python 3 (ipykernel)",
   "language": "python",
   "name": "python3"
  },
  "language_info": {
   "codemirror_mode": {
    "name": "ipython",
    "version": 3
   },
   "file_extension": ".py",
   "mimetype": "text/x-python",
   "name": "python",
   "nbconvert_exporter": "python",
   "pygments_lexer": "ipython3",
   "version": "3.12.7"
  }
 },
 "nbformat": 4,
 "nbformat_minor": 5
}
