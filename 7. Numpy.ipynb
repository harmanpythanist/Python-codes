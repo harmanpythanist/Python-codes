{
 "cells": [
  {
   "cell_type": "code",
   "execution_count": 1,
   "id": "948f8e4d-e3a0-4ab5-b1a6-6ebd80771ce2",
   "metadata": {},
   "outputs": [],
   "source": [
    "import numpy as np"
   ]
  },
  {
   "cell_type": "code",
   "execution_count": 2,
   "id": "6c80a8f4-4fc3-482f-9b25-1debce76ac56",
   "metadata": {},
   "outputs": [],
   "source": [
    "a = np.zeros(10)"
   ]
  },
  {
   "cell_type": "code",
   "execution_count": 3,
   "id": "2388839b-6420-477b-a4a7-19d4cf00f4d9",
   "metadata": {},
   "outputs": [
    {
     "data": {
      "text/plain": [
       "array([0., 0., 0., 0., 0., 0., 0., 0., 0., 0.])"
      ]
     },
     "execution_count": 3,
     "metadata": {},
     "output_type": "execute_result"
    }
   ],
   "source": [
    "a"
   ]
  },
  {
   "cell_type": "code",
   "execution_count": 4,
   "id": "abf333a0-3332-4e16-b667-1d57d650302f",
   "metadata": {},
   "outputs": [
    {
     "data": {
      "text/plain": [
       "array([20.,  0.,  0.,  0.,  0.,  0.,  0.,  0.,  0.,  0.])"
      ]
     },
     "execution_count": 4,
     "metadata": {},
     "output_type": "execute_result"
    }
   ],
   "source": [
    "a[0] = 20\n",
    "a"
   ]
  },
  {
   "cell_type": "markdown",
   "id": "5728588c-48c2-47db-b112-8d97a2a2dd27",
   "metadata": {},
   "source": [
    "## Creating arrays to hold data\n"
   ]
  },
  {
   "cell_type": "code",
   "execution_count": 9,
   "id": "3d20f0f6-3053-43ac-8c08-43749b4d7131",
   "metadata": {},
   "outputs": [],
   "source": [
    "b = np.zeros(50, int)"
   ]
  },
  {
   "cell_type": "code",
   "execution_count": 10,
   "id": "78ddcae5-d0fa-41cd-9a64-aa1fa9250472",
   "metadata": {},
   "outputs": [
    {
     "data": {
      "text/plain": [
       "array([0, 0, 0, 0, 0, 0, 0, 0, 0, 0, 0, 0, 0, 0, 0, 0, 0, 0, 0, 0, 0, 0,\n",
       "       0, 0, 0, 0, 0, 0, 0, 0, 0, 0, 0, 0, 0, 0, 0, 0, 0, 0, 0, 0, 0, 0,\n",
       "       0, 0, 0, 0, 0, 0])"
      ]
     },
     "execution_count": 10,
     "metadata": {},
     "output_type": "execute_result"
    }
   ],
   "source": [
    "b"
   ]
  },
  {
   "cell_type": "code",
   "execution_count": 11,
   "id": "72a21eac-40ad-4d1c-be67-722d07d89d0b",
   "metadata": {},
   "outputs": [],
   "source": [
    "b = np.ones(40, int)"
   ]
  },
  {
   "cell_type": "code",
   "execution_count": 12,
   "id": "f4ad1648-dac9-4050-9bd6-3637499e59fe",
   "metadata": {},
   "outputs": [
    {
     "data": {
      "text/plain": [
       "array([1, 1, 1, 1, 1, 1, 1, 1, 1, 1, 1, 1, 1, 1, 1, 1, 1, 1, 1, 1, 1, 1,\n",
       "       1, 1, 1, 1, 1, 1, 1, 1, 1, 1, 1, 1, 1, 1, 1, 1, 1, 1])"
      ]
     },
     "execution_count": 12,
     "metadata": {},
     "output_type": "execute_result"
    }
   ],
   "source": [
    "b"
   ]
  },
  {
   "cell_type": "code",
   "execution_count": 28,
   "id": "65e16a39-c110-4b45-ac8b-2644328f0765",
   "metadata": {},
   "outputs": [],
   "source": [
    "def func(a, b, names):\n",
    "    bmi = a / (b**2)\n",
    "    for i in range(len(names)):\n",
    "        print('The BMI of', names[i], 'is', bmi[i])"
   ]
  },
  {
   "cell_type": "code",
   "execution_count": 29,
   "id": "ec989735-dead-43a4-a595-f5a985d8c104",
   "metadata": {},
   "outputs": [
    {
     "name": "stdin",
     "output_type": "stream",
     "text": [
      "Enter height of Ali:  2\n",
      "Enter weight of Ali:  56\n",
      "Enter height of Amjad:  2\n",
      "Enter weight of Amjad:  45\n",
      "Enter height of Aliyan:  1\n",
      "Enter weight of Aliyan:  78\n",
      "Enter height of Ahmad:  1.5\n",
      "Enter weight of Ahmad:  65\n",
      "Enter height of Abdullah:  4.3\n",
      "Enter weight of Abdullah:  67\n"
     ]
    }
   ],
   "source": [
    "height = np.zeros(5)\n",
    "weight = np.zeros(5)\n",
    "\n",
    "names = ['Ali', 'Amjad', 'Aliyan', 'Ahmad', 'Abdullah']\n",
    "\n",
    "for i in range(len(names)):\n",
    "    h = float(input('Enter height of '+names[i]+': '))\n",
    "    w = float(input('Enter weight of '+names[i]+': '))\n",
    "\n",
    "    height[i] = h\n",
    "    weight[i] = w\n",
    "    \n",
    "    "
   ]
  },
  {
   "cell_type": "code",
   "execution_count": 26,
   "id": "1fb5b537-d19b-4d51-9374-55e6c1c2c068",
   "metadata": {},
   "outputs": [],
   "source": []
  },
  {
   "cell_type": "code",
   "execution_count": 30,
   "id": "97542f76-9bf3-4bc1-9f1f-0a5b4e09af71",
   "metadata": {},
   "outputs": [
    {
     "name": "stdout",
     "output_type": "stream",
     "text": [
      "The BMI of Ali is 14.0\n",
      "The BMI of Amjad is 11.25\n",
      "The BMI of Aliyan is 78.0\n",
      "The BMI of Ahmad is 28.88888888888889\n",
      "The BMI of Abdullah is 3.6235803136830724\n"
     ]
    }
   ],
   "source": [
    "func(weight, height, names)"
   ]
  },
  {
   "cell_type": "markdown",
   "id": "b3f506e2-882d-4635-9df0-81d6942c2bf1",
   "metadata": {},
   "source": [
    "## Shuffle random"
   ]
  },
  {
   "cell_type": "code",
   "execution_count": 43,
   "id": "b55b050d-92b3-4829-968b-42e503de12c6",
   "metadata": {},
   "outputs": [
    {
     "name": "stdout",
     "output_type": "stream",
     "text": [
      "[1 3 2 6 4 5]\n"
     ]
    }
   ],
   "source": [
    "arr = np.array([1,2,3,4,5,6])\n",
    "np.random.shuffle(arr)\n",
    "print(arr)"
   ]
  },
  {
   "cell_type": "code",
   "execution_count": 54,
   "id": "78e25733-a4f4-4d1d-b394-2d1906046672",
   "metadata": {},
   "outputs": [
    {
     "data": {
      "text/plain": [
       "3"
      ]
     },
     "execution_count": 54,
     "metadata": {},
     "output_type": "execute_result"
    }
   ],
   "source": [
    "arr = np.array([1,2,3,4,5,6])\n",
    "np.random.choice(arr)"
   ]
  },
  {
   "cell_type": "code",
   "execution_count": 57,
   "id": "6b453bf7-cdaf-4b80-9fb8-79a0567cd6bb",
   "metadata": {},
   "outputs": [
    {
     "name": "stdin",
     "output_type": "stream",
     "text": [
      "Press enter to make your turn:  \n"
     ]
    },
    {
     "name": "stdout",
     "output_type": "stream",
     "text": [
      "Current Position ->  5\n"
     ]
    },
    {
     "name": "stdin",
     "output_type": "stream",
     "text": [
      "Press enter to make your turn:  \n"
     ]
    },
    {
     "name": "stdout",
     "output_type": "stream",
     "text": [
      "Current Position ->  8\n"
     ]
    },
    {
     "name": "stdin",
     "output_type": "stream",
     "text": [
      "Press enter to make your turn:  \n"
     ]
    },
    {
     "name": "stdout",
     "output_type": "stream",
     "text": [
      "Current Position ->  14\n"
     ]
    },
    {
     "name": "stdin",
     "output_type": "stream",
     "text": [
      "Press enter to make your turn:  \n"
     ]
    },
    {
     "name": "stdout",
     "output_type": "stream",
     "text": [
      "Current Position ->  19\n"
     ]
    },
    {
     "name": "stdin",
     "output_type": "stream",
     "text": [
      "Press enter to make your turn:  \n"
     ]
    },
    {
     "name": "stdout",
     "output_type": "stream",
     "text": [
      "Current Position ->  24\n"
     ]
    },
    {
     "name": "stdin",
     "output_type": "stream",
     "text": [
      "Press enter to make your turn:  \n"
     ]
    },
    {
     "name": "stdout",
     "output_type": "stream",
     "text": [
      "Current Position ->  29\n"
     ]
    },
    {
     "name": "stdin",
     "output_type": "stream",
     "text": [
      "Press enter to make your turn:  \n"
     ]
    },
    {
     "name": "stdout",
     "output_type": "stream",
     "text": [
      "Current Position ->  35\n"
     ]
    },
    {
     "name": "stdin",
     "output_type": "stream",
     "text": [
      "Press enter to make your turn:  \n"
     ]
    },
    {
     "name": "stdout",
     "output_type": "stream",
     "text": [
      "Current Position ->  39\n"
     ]
    },
    {
     "name": "stdin",
     "output_type": "stream",
     "text": [
      "Press enter to make your turn:  \n"
     ]
    },
    {
     "name": "stdout",
     "output_type": "stream",
     "text": [
      "Current Position ->  45\n"
     ]
    },
    {
     "name": "stdin",
     "output_type": "stream",
     "text": [
      "Press enter to make your turn:  \n"
     ]
    },
    {
     "name": "stdout",
     "output_type": "stream",
     "text": [
      "Current Position ->  48\n"
     ]
    },
    {
     "name": "stdin",
     "output_type": "stream",
     "text": [
      "Press enter to make your turn:  \n"
     ]
    },
    {
     "name": "stdout",
     "output_type": "stream",
     "text": [
      "Current Position ->  50\n"
     ]
    },
    {
     "name": "stdin",
     "output_type": "stream",
     "text": [
      "Press enter to make your turn:  \n"
     ]
    },
    {
     "name": "stdout",
     "output_type": "stream",
     "text": [
      "Current Position ->  53\n"
     ]
    },
    {
     "name": "stdin",
     "output_type": "stream",
     "text": [
      "Press enter to make your turn:  \n"
     ]
    },
    {
     "name": "stdout",
     "output_type": "stream",
     "text": [
      "Current Position ->  58\n"
     ]
    },
    {
     "name": "stdin",
     "output_type": "stream",
     "text": [
      "Press enter to make your turn:  \n"
     ]
    },
    {
     "name": "stdout",
     "output_type": "stream",
     "text": [
      "Current Position ->  63\n"
     ]
    },
    {
     "name": "stdin",
     "output_type": "stream",
     "text": [
      "Press enter to make your turn:  \n"
     ]
    },
    {
     "name": "stdout",
     "output_type": "stream",
     "text": [
      "Current Position ->  64\n"
     ]
    },
    {
     "name": "stdin",
     "output_type": "stream",
     "text": [
      "Press enter to make your turn:  \n"
     ]
    },
    {
     "name": "stdout",
     "output_type": "stream",
     "text": [
      "Current Position ->  69\n"
     ]
    },
    {
     "name": "stdin",
     "output_type": "stream",
     "text": [
      "Press enter to make your turn:  \n"
     ]
    },
    {
     "name": "stdout",
     "output_type": "stream",
     "text": [
      "Current Position ->  70\n"
     ]
    },
    {
     "name": "stdin",
     "output_type": "stream",
     "text": [
      "Press enter to make your turn:  \n"
     ]
    },
    {
     "name": "stdout",
     "output_type": "stream",
     "text": [
      "Current Position ->  74\n"
     ]
    },
    {
     "name": "stdin",
     "output_type": "stream",
     "text": [
      "Press enter to make your turn:  \n"
     ]
    },
    {
     "name": "stdout",
     "output_type": "stream",
     "text": [
      "Current Position ->  77\n"
     ]
    },
    {
     "name": "stdin",
     "output_type": "stream",
     "text": [
      "Press enter to make your turn:  \n"
     ]
    },
    {
     "name": "stdout",
     "output_type": "stream",
     "text": [
      "Current Position ->  78\n"
     ]
    },
    {
     "name": "stdin",
     "output_type": "stream",
     "text": [
      "Press enter to make your turn:  \n"
     ]
    },
    {
     "name": "stdout",
     "output_type": "stream",
     "text": [
      "Current Position ->  80\n"
     ]
    },
    {
     "name": "stdin",
     "output_type": "stream",
     "text": [
      "Press enter to make your turn:  \n"
     ]
    },
    {
     "name": "stdout",
     "output_type": "stream",
     "text": [
      "Current Position ->  83\n"
     ]
    },
    {
     "name": "stdin",
     "output_type": "stream",
     "text": [
      "Press enter to make your turn:  \n"
     ]
    },
    {
     "name": "stdout",
     "output_type": "stream",
     "text": [
      "Current Position ->  89\n"
     ]
    },
    {
     "name": "stdin",
     "output_type": "stream",
     "text": [
      "Press enter to make your turn:  \n"
     ]
    },
    {
     "name": "stdout",
     "output_type": "stream",
     "text": [
      "Current Position ->  90\n"
     ]
    },
    {
     "name": "stdin",
     "output_type": "stream",
     "text": [
      "Press enter to make your turn:  \n"
     ]
    },
    {
     "name": "stdout",
     "output_type": "stream",
     "text": [
      "Current Position ->  92\n"
     ]
    },
    {
     "name": "stdin",
     "output_type": "stream",
     "text": [
      "Press enter to make your turn:  \n"
     ]
    },
    {
     "name": "stdout",
     "output_type": "stream",
     "text": [
      "Current Position ->  97\n"
     ]
    },
    {
     "name": "stdin",
     "output_type": "stream",
     "text": [
      "Press enter to make your turn:  \n"
     ]
    },
    {
     "name": "stdout",
     "output_type": "stream",
     "text": [
      "Current Position ->  98\n"
     ]
    },
    {
     "name": "stdin",
     "output_type": "stream",
     "text": [
      "Press enter to make your turn:  \n"
     ]
    },
    {
     "name": "stdout",
     "output_type": "stream",
     "text": [
      "Current Position ->  104\n"
     ]
    }
   ],
   "source": [
    "# 0 -> 100\n",
    "current_position = 0\n",
    "dice = np.array([1,2,3,4,5,6])\n",
    "while current_position < 100:   \n",
    "    con = input('Press enter to make your turn: ')\n",
    "    random = np.random.choice(dice)\n",
    "    current_position = current_position + random\n",
    "\n",
    "    print('Current Position -> ', current_position)"
   ]
  },
  {
   "cell_type": "markdown",
   "id": "a3f9f2e5-86a7-4f96-a529-37eba726f40e",
   "metadata": {},
   "source": [
    "## Save and load numpy arrays"
   ]
  },
  {
   "cell_type": "code",
   "execution_count": 60,
   "id": "c4776fa0-4156-4338-9a1b-ae64fe117f20",
   "metadata": {},
   "outputs": [],
   "source": [
    "bmi = weight / (height**2)"
   ]
  },
  {
   "cell_type": "code",
   "execution_count": 61,
   "id": "5b0ad285-84ac-4db0-ab3f-0460c0e3e5ca",
   "metadata": {},
   "outputs": [],
   "source": [
    "np.save('bmi_data', bmi)"
   ]
  },
  {
   "cell_type": "code",
   "execution_count": 62,
   "id": "c358f5dd-8ce9-485a-b81d-b5c9c22c9430",
   "metadata": {},
   "outputs": [
    {
     "data": {
      "text/plain": [
       "array([14.        , 11.25      , 78.        , 28.88888889,  3.62358031])"
      ]
     },
     "execution_count": 62,
     "metadata": {},
     "output_type": "execute_result"
    }
   ],
   "source": [
    "np.load('bmi_data.npy')"
   ]
  },
  {
   "cell_type": "markdown",
   "id": "a62fc461-a171-421c-9227-3e57d23b3636",
   "metadata": {},
   "source": [
    "## Generate alot of numbers"
   ]
  },
  {
   "cell_type": "code",
   "execution_count": 64,
   "id": "4a3da198-5939-4d5a-9a74-c112c602fc33",
   "metadata": {},
   "outputs": [
    {
     "data": {
      "text/plain": [
       "array([  1,   2,   3,   4,   5,   6,   7,   8,   9,  10,  11,  12,  13,\n",
       "        14,  15,  16,  17,  18,  19,  20,  21,  22,  23,  24,  25,  26,\n",
       "        27,  28,  29,  30,  31,  32,  33,  34,  35,  36,  37,  38,  39,\n",
       "        40,  41,  42,  43,  44,  45,  46,  47,  48,  49,  50,  51,  52,\n",
       "        53,  54,  55,  56,  57,  58,  59,  60,  61,  62,  63,  64,  65,\n",
       "        66,  67,  68,  69,  70,  71,  72,  73,  74,  75,  76,  77,  78,\n",
       "        79,  80,  81,  82,  83,  84,  85,  86,  87,  88,  89,  90,  91,\n",
       "        92,  93,  94,  95,  96,  97,  98,  99, 100, 101, 102, 103, 104,\n",
       "       105, 106, 107, 108, 109])"
      ]
     },
     "execution_count": 64,
     "metadata": {},
     "output_type": "execute_result"
    }
   ],
   "source": [
    "np.arange(1,110)"
   ]
  },
  {
   "cell_type": "code",
   "execution_count": 88,
   "id": "e224ca9e-ec26-4cc9-a5ac-7bb4d05989e5",
   "metadata": {},
   "outputs": [
    {
     "data": {
      "text/plain": [
       "array([4, 7, 5, 7, 7, 4, 7, 7, 5, 7, 7, 6, 5, 7, 5, 7, 4, 7, 5, 5])"
      ]
     },
     "execution_count": 88,
     "metadata": {},
     "output_type": "execute_result"
    }
   ],
   "source": [
    "np.random.randint(4, 8, size = 20)"
   ]
  },
  {
   "cell_type": "code",
   "execution_count": 91,
   "id": "edafcc22-439e-4238-bc40-bdbe14bead09",
   "metadata": {},
   "outputs": [
    {
     "data": {
      "text/plain": [
       "array([65, 65, 65, 65, 65, 65, 65, 65, 65, 65, 65, 65, 65, 65, 65, 65, 65,\n",
       "       65, 65, 65, 65, 65, 65, 65, 65, 65, 65, 65, 65, 65, 65, 65, 65, 65,\n",
       "       65, 65, 65, 65, 65, 65, 65, 65, 65, 65, 65, 65, 65, 65, 65, 65, 65,\n",
       "       65, 65, 65, 65, 65, 65, 65, 65, 65, 65, 65, 65, 65, 65, 65, 65, 65,\n",
       "       65, 65, 65, 65, 65, 65, 65, 65, 65, 65, 65, 65, 65, 65, 65, 65, 65,\n",
       "       65, 65, 65, 65, 65, 65, 65, 65, 65, 65, 65, 65, 65, 65, 65])"
      ]
     },
     "execution_count": 91,
     "metadata": {},
     "output_type": "execute_result"
    }
   ],
   "source": [
    "np.full(100, 65)"
   ]
  },
  {
   "cell_type": "code",
   "execution_count": null,
   "id": "012dcac5-1f50-4730-8cfe-88b49c82132c",
   "metadata": {},
   "outputs": [],
   "source": []
  }
 ],
 "metadata": {
  "kernelspec": {
   "display_name": "Python 3 (ipykernel)",
   "language": "python",
   "name": "python3"
  },
  "language_info": {
   "codemirror_mode": {
    "name": "ipython",
    "version": 3
   },
   "file_extension": ".py",
   "mimetype": "text/x-python",
   "name": "python",
   "nbconvert_exporter": "python",
   "pygments_lexer": "ipython3",
   "version": "3.12.7"
  }
 },
 "nbformat": 4,
 "nbformat_minor": 5
}
