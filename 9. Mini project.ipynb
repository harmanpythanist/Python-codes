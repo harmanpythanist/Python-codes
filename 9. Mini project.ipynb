{
 "cells": [
  {
   "cell_type": "code",
   "execution_count": 2,
   "id": "8191a66b-d05c-45ea-8f6f-041da5ed1c64",
   "metadata": {},
   "outputs": [],
   "source": [
    "import numpy as np"
   ]
  },
  {
   "cell_type": "code",
   "execution_count": 3,
   "id": "a56190a2-181f-492b-8351-333ee34c7733",
   "metadata": {},
   "outputs": [],
   "source": [
    "attendance_data = np.array([\n",
    "    [1, 1, 1, 0, 1, 1, 0, 1, 1, 1, 1, 1, 1, 1, 1],\n",
    "    [1, 1, 0, 0, 1, 1, 1, 1, 0, 1, 1, 0, 1, 1, 1],\n",
    "    [0, 0, 0, 0, 1, 1, 1, 0, 1, 0, 0, 0, 0, 1, 0],\n",
    "    [1, 1, 1, 1, 1, 1, 1, 1, 1, 1, 1, 1, 1, 1, 1],\n",
    "    [1, 1, 1, 1, 1, 0, 0, 1, 0, 1, 1, 1, 1, 1, 0],\n",
    "    [1, 0, 1, 0, 1, 0, 1, 1, 1, 1, 0, 1, 0, 1, 1],\n",
    "    [0, 1, 1, 0, 0, 0, 1, 1, 1, 1, 1, 0, 0, 1, 0],\n",
    "    [1, 1, 1, 1, 1, 1, 1, 1, 1, 1, 1, 1, 1, 1, 0],\n",
    "    [1, 0, 1, 1, 0, 1, 0, 1, 1, 1, 0, 0, 1, 1, 1],\n",
    "    [1, 1, 1, 1, 1, 1, 1, 1, 1, 1, 1, 1, 1, 1, 1]\n",
    "])\n"
   ]
  },
  {
   "cell_type": "code",
   "execution_count": 7,
   "id": "a3da379a-eb23-4023-8768-1543ce9298e6",
   "metadata": {},
   "outputs": [],
   "source": [
    "li = np.zeros(10)\n",
    "for i in range(10):\n",
    "    summ = sum(attendance_data[i])\n",
    "    li[i] = summ"
   ]
  },
  {
   "cell_type": "code",
   "execution_count": 8,
   "id": "22ed47ce-3038-4697-b07e-3e979130391a",
   "metadata": {},
   "outputs": [
    {
     "data": {
      "text/plain": [
       "array([13., 11.,  5., 15., 11., 10.,  8., 14., 10., 15.])"
      ]
     },
     "execution_count": 8,
     "metadata": {},
     "output_type": "execute_result"
    }
   ],
   "source": [
    "li"
   ]
  },
  {
   "cell_type": "code",
   "execution_count": 15,
   "id": "de596f42-3772-49f7-b0a6-e4f75f524a2c",
   "metadata": {},
   "outputs": [
    {
     "name": "stdout",
     "output_type": "stream",
     "text": [
      "[86.67  0.    0.    0.    0.    0.    0.    0.    0.    0.  ]\n",
      "[86.67 73.33  0.    0.    0.    0.    0.    0.    0.    0.  ]\n",
      "[86.67 73.33 33.33  0.    0.    0.    0.    0.    0.    0.  ]\n",
      "[ 86.67  73.33  33.33 100.     0.     0.     0.     0.     0.     0.  ]\n",
      "[ 86.67  73.33  33.33 100.    73.33   0.     0.     0.     0.     0.  ]\n",
      "[ 86.67  73.33  33.33 100.    73.33  66.67   0.     0.     0.     0.  ]\n",
      "[ 86.67  73.33  33.33 100.    73.33  66.67  53.33   0.     0.     0.  ]\n",
      "[ 86.67  73.33  33.33 100.    73.33  66.67  53.33  93.33   0.     0.  ]\n",
      "[ 86.67  73.33  33.33 100.    73.33  66.67  53.33  93.33  66.67   0.  ]\n",
      "[ 86.67  73.33  33.33 100.    73.33  66.67  53.33  93.33  66.67 100.  ]\n"
     ]
    }
   ],
   "source": [
    "li_student_per = np.zeros(10)\n",
    "for i in range(10):\n",
    "    current_student = li[i]\n",
    "    per = (current_student / 15) * 100\n",
    "    li_student_per[i] = round(per,2)\n",
    "    print(li_student_per)"
   ]
  },
  {
   "cell_type": "code",
   "execution_count": null,
   "id": "83401a10-70c3-43b2-b1c6-a9d14eef7beb",
   "metadata": {},
   "outputs": [],
   "source": [
    "# students < 75%\n",
    "# percentage attendence per each day"
   ]
  },
  {
   "cell_type": "code",
   "execution_count": null,
   "id": "6f993a0f-a864-4bf5-bbee-983297db5ab7",
   "metadata": {},
   "outputs": [],
   "source": []
  }
 ],
 "metadata": {
  "kernelspec": {
   "display_name": "Python 3 (ipykernel)",
   "language": "python",
   "name": "python3"
  },
  "language_info": {
   "codemirror_mode": {
    "name": "ipython",
    "version": 3
   },
   "file_extension": ".py",
   "mimetype": "text/x-python",
   "name": "python",
   "nbconvert_exporter": "python",
   "pygments_lexer": "ipython3",
   "version": "3.12.7"
  }
 },
 "nbformat": 4,
 "nbformat_minor": 5
}
